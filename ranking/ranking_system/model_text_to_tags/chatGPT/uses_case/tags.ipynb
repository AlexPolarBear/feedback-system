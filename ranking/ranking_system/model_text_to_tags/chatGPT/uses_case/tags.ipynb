{
 "cells": [
  {
   "cell_type": "code",
   "execution_count": 38,
   "metadata": {},
   "outputs": [],
   "source": [
    "import os \n",
    "import sys\n",
    "# os.path.dirname(os.path.dirname(os.path.abspath(__file__)))\n",
    "sys.path.append(os.path.dirname(os.getcwd()))\n",
    "\n",
    "\n",
    "from simple_data.simpleCourses import simple_courses"
   ]
  },
  {
   "cell_type": "code",
   "execution_count": 39,
   "metadata": {},
   "outputs": [],
   "source": [
    "from chatGPT import ChatGPT\n"
   ]
  },
  {
   "cell_type": "code",
   "execution_count": 44,
   "metadata": {},
   "outputs": [],
   "source": [
    "chat_gpt = ChatGPT()\n",
    "course = simple_courses[0]\n",
    "chatGPT_context = chat_gpt.get_context()\n"
   ]
  },
  {
   "cell_type": "code",
   "execution_count": null,
   "metadata": {},
   "outputs": [],
   "source": []
  },
  {
   "cell_type": "code",
   "execution_count": 46,
   "metadata": {},
   "outputs": [
    {
     "name": "stdout",
     "output_type": "stream",
     "text": [
      "[\\*] ChatGPT request starting !\n",
      "ChatGPT request is finished! [*/]\n",
      "алгебра, коммутативные кольца, алгебраическая геометрия, алгебраическая теория чисел, локальная алгебраическая геометрия, дедекиндовы кольца, локализация, нормализация, пополнение, теорема Гильберта о нулях, Лемма Нетер о нормализации, Структурная теорема Коэна, теория размерности Крулля, топология Зариского, литература.\n"
     ]
    }
   ],
   "source": [
    "# GET TAGS FROM DESCRIBE PER TEXT BY CHATGPT AND SAVE \n",
    "# save tag to ChatGPT/data/saved_data/tags_txt/{course.short_name}_tags.txt\n",
    "tags_txt = chat_gpt._get_and_save_tags_txt_for_course_by_descr(course=course, context=chatGPT_context)\n",
    "\n",
    "print(tags_txt)"
   ]
  },
  {
   "cell_type": "code",
   "execution_count": 47,
   "metadata": {},
   "outputs": [
    {
     "name": "stdout",
     "output_type": "stream",
     "text": [
      "[*] ChatGPT_main is working! [*]\n",
      "\n",
      "[Tag(id=-1, title='алгебра', type=-1), Tag(id=-1, title='коммутативные кольца', type=-1), Tag(id=-1, title='алгебраическая геометрия', type=-1), Tag(id=-1, title='алгебраическая теория чисел', type=-1), Tag(id=-1, title='локальная алгебраическая геометрия', type=-1), Tag(id=-1, title='дедекиндовы кольца', type=-1), Tag(id=-1, title='локализация', type=-1), Tag(id=-1, title='нормализация', type=-1), Tag(id=-1, title='пополнение', type=-1), Tag(id=-1, title='теорема Гильберта о нулях', type=-1), Tag(id=-1, title='Лемма Нетер о нормализации', type=-1), Tag(id=-1, title='Структурная теорема Коэна', type=-1), Tag(id=-1, title='теория размерности Крулля', type=-1), Tag(id=-1, title='топология Зариского', type=-1), Tag(id=-1, title='литература', type=-1)]\n"
     ]
    }
   ],
   "source": [
    "# READ TAGS FROM TEXT\n",
    "# read tags_txt by short_name : ChatGPT/data/saved_data/tags_txt/{course.short_name}_tags.txt\n",
    "\n",
    "print(\"[*] ChatGPT_main is working! [*]\\n\")\n",
    "    \n",
    "tags_txt = chat_gpt._read_tags_txt_from_file(short_name=course.short_name)\n",
    "tags_list = chat_gpt._tags_txt_to_tags(tags_txt)\n",
    "\n",
    "print(tags_list)"
   ]
  },
  {
   "cell_type": "code",
   "execution_count": null,
   "metadata": {},
   "outputs": [],
   "source": []
  },
  {
   "cell_type": "code",
   "execution_count": null,
   "metadata": {},
   "outputs": [],
   "source": []
  },
  {
   "cell_type": "code",
   "execution_count": null,
   "metadata": {},
   "outputs": [],
   "source": []
  },
  {
   "cell_type": "code",
   "execution_count": null,
   "metadata": {},
   "outputs": [],
   "source": []
  }
 ],
 "metadata": {
  "kernelspec": {
   "display_name": "Python 3",
   "language": "python",
   "name": "python3"
  },
  "language_info": {
   "codemirror_mode": {
    "name": "ipython",
    "version": 3
   },
   "file_extension": ".py",
   "mimetype": "text/x-python",
   "name": "python",
   "nbconvert_exporter": "python",
   "pygments_lexer": "ipython3",
   "version": "3.10.6"
  },
  "orig_nbformat": 4
 },
 "nbformat": 4,
 "nbformat_minor": 2
}
