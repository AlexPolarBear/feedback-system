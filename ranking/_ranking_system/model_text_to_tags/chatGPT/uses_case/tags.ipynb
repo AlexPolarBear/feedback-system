{
 "cells": [
  {
   "cell_type": "code",
   "execution_count": 1,
   "metadata": {},
   "outputs": [
    {
     "name": "stdout",
     "output_type": "stream",
     "text": [
      "c:\\Users\\nalex\\Desktop\\different\\feedback-system\\ranking\\ranking_system\\model_text_to_tags\\chatGPT\n",
      "c:\\Users\\nalex\\Desktop\\different\\feedback-system\\ranking\\ranking_system\n"
     ]
    }
   ],
   "source": [
    "import os \n",
    "import sys\n",
    "\n",
    "# add moduls ranking_system, chatGPT\n",
    "print(os.path.dirname(os.getcwd()))\n",
    "sys.path.append(os.path.dirname(os.getcwd()))\n",
    "\n",
    "print(os.path.dirname(os.path.dirname(os.path.dirname(os.getcwd()))))\n",
    "sys.path.append(os.path.dirname(os.path.dirname(os.path.dirname(os.getcwd()))))\n",
    "\n",
    "\n",
    "from simple_data.simpleCourses import simple_courses\n",
    "from simple_data.simpleContexts import simple_contexts\n"
   ]
  },
  {
   "cell_type": "code",
   "execution_count": 2,
   "metadata": {},
   "outputs": [],
   "source": [
    "from chatGPT import ChatGPT\n"
   ]
  },
  {
   "cell_type": "code",
   "execution_count": 3,
   "metadata": {},
   "outputs": [],
   "source": [
    "chat_gpt = ChatGPT()"
   ]
  },
  {
   "cell_type": "code",
   "execution_count": 4,
   "metadata": {},
   "outputs": [
    {
     "name": "stdout",
     "output_type": "stream",
     "text": [
      "Сейчас я попрошу по описанию курса в университета, \n",
      "перечислить ключевые теги описывающие курс. \n",
      "Теги в идеале должны быть короткими и полными. Постарайся похожие теги формулировать одним образом.\n",
      "Перечисли их через запятую без пробелов, в конце точку ставить не нужно. Все буквы пиши маленькими буквами. \n",
      "\n"
     ]
    }
   ],
   "source": [
    "\n",
    "course = simple_courses[0]\n",
    "context = simple_contexts[0]\n",
    "chatGPT_context = chat_gpt.get_context()\n",
    "print(chatGPT_context)"
   ]
  },
  {
   "cell_type": "code",
   "execution_count": null,
   "metadata": {},
   "outputs": [],
   "source": []
  },
  {
   "cell_type": "code",
   "execution_count": 5,
   "metadata": {},
   "outputs": [
    {
     "name": "stdout",
     "output_type": "stream",
     "text": [
      "[\\*] ChatGPT request starting !\n",
      "ChatGPT request is finished! [*/]\n",
      "коммутативная алгебра, алгебраическая геометрия, коммутативные кольца, локализация, нормализация, пополнение, теорема Гильберта о нулях, лемма Нетер о нормализации, структурная теорема Коэна, размерность Крулля, топология Зариского, локальная алгебраическая геометрия, дедекиндовы кольца.\n"
     ]
    }
   ],
   "source": [
    "# GET TAGS FROM DESCRIBE PER TEXT BY CHATGPT AND SAVE \n",
    "# save tag to ChatGPT/data/saved_data/tags_txt/{course.short_name}_tags.txt\n",
    "\n",
    "tags_txt = chat_gpt._get_and_save_tags_txt_for_course_by_descr(course=course, context=chatGPT_context)\n",
    "\n",
    "print(tags_txt)"
   ]
  },
  {
   "cell_type": "code",
   "execution_count": 7,
   "metadata": {},
   "outputs": [
    {
     "name": "stdout",
     "output_type": "stream",
     "text": [
      "[*] ChatGPT_main is working! [*]\n",
      "\n",
      "{14: Tag(id=14, title='коммутативная алгебра', type=-1), 15: Tag(id=15, title='алгебраическая геометрия', type=-1), 16: Tag(id=16, title='коммутативные кольца', type=-1), 17: Tag(id=17, title='локализация', type=-1), 18: Tag(id=18, title='нормализация', type=-1), 19: Tag(id=19, title='пополнение', type=-1), 20: Tag(id=20, title='теорема Гильберта о нулях', type=-1), 21: Tag(id=21, title='лемма Нетер о нормализации', type=-1), 22: Tag(id=22, title='структурная теорема Коэна', type=-1), 23: Tag(id=23, title='размерность Крулля', type=-1), 24: Tag(id=24, title='топология Зариского', type=-1), 25: Tag(id=25, title='локальная алгебраическая геометрия', type=-1), 26: Tag(id=26, title='дедекиндовы кольца', type=-1)}\n"
     ]
    }
   ],
   "source": [
    "# READ TAGS FROM TEXT\n",
    "# read tags_txt by short_name : ChatGPT/data/saved_data/tags_txt/{course.short_name}_tags.txt\n",
    "\n",
    "print(\"[*] ChatGPT_main is working! [*]\\n\")\n",
    "    \n",
    "tags_txt = chat_gpt._read_tags_txt_from_file(short_name=course.short_name)\n",
    "tags_dict = chat_gpt._tags_txt_to_tags(tags_txt)\n",
    "\n",
    "print(tags_dict)"
   ]
  },
  {
   "cell_type": "code",
   "execution_count": null,
   "metadata": {},
   "outputs": [],
   "source": []
  },
  {
   "cell_type": "code",
   "execution_count": 9,
   "metadata": {},
   "outputs": [
    {
     "name": "stdout",
     "output_type": "stream",
     "text": [
      "[\\*]CommAlg is downloaded -> c:\\Users\\nalex\\Desktop\\different\\feedback-system\\ranking\\ranking_system\\model_text_to_tags\\chatGPT\\data\\saved_data\\tags_json\\CommAlg_tags.json [*/]\n"
     ]
    }
   ],
   "source": [
    "chat_gpt._save_tags_json_to_file(short_name=\"CommAlg\", tags_dict=tags_dict, verbose=True)\n",
    "# chat_gpt._save_tags_json_to_file(short_name=\"CommAlg\", tags=context)\n",
    "\n"
   ]
  },
  {
   "cell_type": "code",
   "execution_count": null,
   "metadata": {},
   "outputs": [],
   "source": []
  },
  {
   "cell_type": "code",
   "execution_count": null,
   "metadata": {},
   "outputs": [],
   "source": []
  }
 ],
 "metadata": {
  "kernelspec": {
   "display_name": "Python 3",
   "language": "python",
   "name": "python3"
  },
  "language_info": {
   "codemirror_mode": {
    "name": "ipython",
    "version": 3
   },
   "file_extension": ".py",
   "mimetype": "text/x-python",
   "name": "python",
   "nbconvert_exporter": "python",
   "pygments_lexer": "ipython3",
   "version": "3.10.6"
  },
  "orig_nbformat": 4
 },
 "nbformat": 4,
 "nbformat_minor": 2
}
