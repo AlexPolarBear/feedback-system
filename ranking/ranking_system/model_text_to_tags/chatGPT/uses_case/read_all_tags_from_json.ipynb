{
 "cells": [
  {
   "cell_type": "code",
   "execution_count": 4,
   "metadata": {},
   "outputs": [
    {
     "name": "stdout",
     "output_type": "stream",
     "text": [
      "c:\\Users\\nalex\\Desktop\\different\\feedback-system\\ranking\\ranking_system\\model_text_to_tags\\chatGPT\n",
      "c:\\Users\\nalex\\Desktop\\different\\feedback-system\\ranking\\ranking_system\n"
     ]
    }
   ],
   "source": [
    "import os \n",
    "import sys\n",
    "\n",
    "# add moduls ranking_system, chatGPT\n",
    "print(os.path.dirname(os.getcwd()))\n",
    "sys.path.append(os.path.dirname(os.getcwd()))\n",
    "\n",
    "print(os.path.dirname(os.path.dirname(os.path.dirname(os.getcwd()))))\n",
    "sys.path.append(os.path.dirname(os.path.dirname(os.path.dirname(os.getcwd()))))"
   ]
  },
  {
   "cell_type": "code",
   "execution_count": 5,
   "metadata": {},
   "outputs": [],
   "source": [
    "import pprint"
   ]
  },
  {
   "cell_type": "code",
   "execution_count": 6,
   "metadata": {},
   "outputs": [],
   "source": [
    "from chatGPT import ChatGPT\n"
   ]
  },
  {
   "cell_type": "code",
   "execution_count": 7,
   "metadata": {},
   "outputs": [],
   "source": [
    "chat_gpt = ChatGPT()"
   ]
  },
  {
   "cell_type": "code",
   "execution_count": 8,
   "metadata": {},
   "outputs": [],
   "source": [
    "courses = chat_gpt.read_all_courses_json_to_courses()"
   ]
  },
  {
   "cell_type": "code",
   "execution_count": 10,
   "metadata": {},
   "outputs": [
    {
     "name": "stdout",
     "output_type": "stream",
     "text": [
      "[Course(short_name='CommAlg_tags',\n",
      "        description='Context already ready!',\n",
      "        id=None,\n",
      "        field_of_knowledge=None,\n",
      "        full_name=None,\n",
      "        size=None,\n",
      "        lecturer_id=None,\n",
      "        year=None,\n",
      "        context=Context(context={'1': {'id': 1,\n",
      "                                       'tittle': 'коммутативная алгебра',\n",
      "                                       'type': -1},\n",
      "                                 '10': {'id': 10,\n",
      "                                        'tittle': 'теория размерности Крулля',\n",
      "                                        'type': -1},\n",
      "                                 '11': {'id': 11,\n",
      "                                        'tittle': 'топология Зариского',\n",
      "                                        'type': -1},\n",
      "                                 '2': {'id': 2,\n",
      "                                       'tittle': 'алгебраическая геометрия',\n",
      "                                       'type': -1},\n",
      "                                 '3': {'id': 3,\n",
      "                                       'tittle': 'алгебраическая теория чисел',\n",
      "                                       'type': -1},\n",
      "                                 '4': {'id': 4,\n",
      "                                       'tittle': 'локализация',\n",
      "                                       'type': -1},\n",
      "                                 '5': {'id': 5,\n",
      "                                       'tittle': 'нормализация',\n",
      "                                       'type': -1},\n",
      "                                 '6': {'id': 6,\n",
      "                                       'tittle': 'пополнение',\n",
      "                                       'type': -1},\n",
      "                                 '7': {'id': 7,\n",
      "                                       'tittle': 'теорема Гильберта о нулях',\n",
      "                                       'type': -1},\n",
      "                                 '8': {'id': 8,\n",
      "                                       'tittle': 'лемма Нетер о нормализации',\n",
      "                                       'type': -1},\n",
      "                                 '9': {'id': 9,\n",
      "                                       'tittle': 'структурная теорема Коэна',\n",
      "                                       'type': -1}})),\n",
      " Course(short_name='DeepLearn_tags',\n",
      "        description='Context already ready!',\n",
      "        id=None,\n",
      "        field_of_knowledge=None,\n",
      "        full_name=None,\n",
      "        size=None,\n",
      "        lecturer_id=None,\n",
      "        year=None,\n",
      "        context=Context(context={'12': {'id': 12,\n",
      "                                        'tittle': 'глубокое обучение',\n",
      "                                        'type': -1},\n",
      "                                 '13': {'id': 13,\n",
      "                                        'tittle': 'нейронные сети',\n",
      "                                        'type': -1},\n",
      "                                 '14': {'id': 14,\n",
      "                                        'tittle': 'архитектуры сетей',\n",
      "                                        'type': -1},\n",
      "                                 '15': {'id': 15,\n",
      "                                        'tittle': 'алгоритмы обучения',\n",
      "                                        'type': -1},\n",
      "                                 '16': {'id': 16,\n",
      "                                        'tittle': 'компьютерное зрение',\n",
      "                                        'type': -1},\n",
      "                                 '17': {'id': 17,\n",
      "                                        'tittle': 'распознавание речи',\n",
      "                                        'type': -1},\n",
      "                                 '18': {'id': 18,\n",
      "                                        'tittle': 'обработка естественного '\n",
      "                                                  'языка',\n",
      "                                        'type': -1},\n",
      "                                 '19': {'id': 19,\n",
      "                                        'tittle': 'машинное обучение',\n",
      "                                        'type': -1}})),\n",
      " Course(short_name='VarCalc_tags',\n",
      "        description='Context already ready!',\n",
      "        id=None,\n",
      "        field_of_knowledge=None,\n",
      "        full_name=None,\n",
      "        size=None,\n",
      "        lecturer_id=None,\n",
      "        year=None,\n",
      "        context=Context(context={'20': {'id': 20,\n",
      "                                        'tittle': 'вариационное исчисление',\n",
      "                                        'type': -1},\n",
      "                                 '21': {'id': 21,\n",
      "                                        'tittle': 'краевые задачи',\n",
      "                                        'type': -1},\n",
      "                                 '22': {'id': 22,\n",
      "                                        'tittle': 'уравнения в частных '\n",
      "                                                  'производных',\n",
      "                                        'type': -1},\n",
      "                                 '23': {'id': 23,\n",
      "                                        'tittle': 'метод Нехари',\n",
      "                                        'type': -1},\n",
      "                                 '24': {'id': 24,\n",
      "                                        'tittle': 'теорема о горном перевале',\n",
      "                                        'type': -1},\n",
      "                                 '25': {'id': 25,\n",
      "                                        'tittle': 'выпуклость',\n",
      "                                        'type': -1},\n",
      "                                 '26': {'id': 26,\n",
      "                                        'tittle': 'симметризация',\n",
      "                                        'type': -1},\n",
      "                                 '27': {'id': 27,\n",
      "                                        'tittle': 'движущиеся плоскости',\n",
      "                                        'type': -1},\n",
      "                                 '28': {'id': 28,\n",
      "                                        'tittle': 'множественность решений',\n",
      "                                        'type': -1},\n",
      "                                 '29': {'id': 29,\n",
      "                                        'tittle': 'тождество Похожаева',\n",
      "                                        'type': -1},\n",
      "                                 '30': {'id': 30,\n",
      "                                        'tittle': 'принцип Лионса',\n",
      "                                        'type': -1}}))]\n"
     ]
    }
   ],
   "source": [
    "pprint.pprint(courses)"
   ]
  },
  {
   "cell_type": "code",
   "execution_count": null,
   "metadata": {},
   "outputs": [],
   "source": []
  },
  {
   "cell_type": "code",
   "execution_count": null,
   "metadata": {},
   "outputs": [],
   "source": []
  }
 ],
 "metadata": {
  "kernelspec": {
   "display_name": "Python 3",
   "language": "python",
   "name": "python3"
  },
  "language_info": {
   "codemirror_mode": {
    "name": "ipython",
    "version": 3
   },
   "file_extension": ".py",
   "mimetype": "text/x-python",
   "name": "python",
   "nbconvert_exporter": "python",
   "pygments_lexer": "ipython3",
   "version": "3.10.6"
  },
  "orig_nbformat": 4
 },
 "nbformat": 4,
 "nbformat_minor": 2
}
