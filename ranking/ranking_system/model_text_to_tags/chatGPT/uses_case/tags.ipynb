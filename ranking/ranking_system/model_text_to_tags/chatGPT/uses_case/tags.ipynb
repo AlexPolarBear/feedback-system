{
 "cells": [
  {
   "cell_type": "code",
   "execution_count": 1,
   "metadata": {},
   "outputs": [
    {
     "name": "stdout",
     "output_type": "stream",
     "text": [
      "c:\\Users\\nalex\\Desktop\\different\\feedback-system\\ranking\\ranking_system\\model_text_to_tags\\chatGPT\n",
      "c:\\Users\\nalex\\Desktop\\different\\feedback-system\\ranking\\ranking_system\n"
     ]
    }
   ],
   "source": [
    "import os \n",
    "import sys\n",
    "\n",
    "# add moduls ranking_system, chatGPT\n",
    "print(os.path.dirname(os.getcwd()))\n",
    "sys.path.append(os.path.dirname(os.getcwd()))\n",
    "\n",
    "print(os.path.dirname(os.path.dirname(os.path.dirname(os.getcwd()))))\n",
    "sys.path.append(os.path.dirname(os.path.dirname(os.path.dirname(os.getcwd()))))\n",
    "\n",
    "\n",
    "from simple_data.simpleCourses import simple_courses\n",
    "from simple_data.simpleContexts import simple_contexts\n"
   ]
  },
  {
   "cell_type": "code",
   "execution_count": 2,
   "metadata": {},
   "outputs": [],
   "source": [
    "from chatGPT import ChatGPT\n"
   ]
  },
  {
   "cell_type": "code",
   "execution_count": 3,
   "metadata": {},
   "outputs": [],
   "source": [
    "chat_gpt = ChatGPT()"
   ]
  },
  {
   "cell_type": "code",
   "execution_count": 4,
   "metadata": {},
   "outputs": [
    {
     "name": "stdout",
     "output_type": "stream",
     "text": [
      "Сейчас я попрошу по описанию курса в университета, \n",
      "перечислить ключевые теги описывающие курс. \n",
      "Теги в идеале должны быть короткими и полными. Постарайся похожие теги формулировать одним образом.\n",
      "Перечисли их через запятую без пробелов, в конце точку ставить не нужно. Все буквы пиши маленькими буквами. \n",
      "\n"
     ]
    }
   ],
   "source": [
    "\n",
    "course = simple_courses[0]\n",
    "context = simple_contexts[0]\n",
    "chatGPT_context = chat_gpt.get_context()\n",
    "print(chatGPT_context)"
   ]
  },
  {
   "cell_type": "code",
   "execution_count": null,
   "metadata": {},
   "outputs": [],
   "source": []
  },
  {
   "cell_type": "code",
   "execution_count": 5,
   "metadata": {},
   "outputs": [
    {
     "name": "stdout",
     "output_type": "stream",
     "text": [
      "[\\*] ChatGPT request starting !\n",
      "ChatGPT request is finished! [*/]\n",
      "алгебра, коммутативные кольца, алгебраическая геометрия, алгебраические многообразия, кольца целых алгебраических чисел, \n",
      "локализация, нормализация, пополнение, теорема Гильберта о нулях, Лемма Нетер, Структурная теорема Коэна, размерность Крулля, \n",
      "топология Зариского, локальная алгебраическая геометрия, литература.\n"
     ]
    }
   ],
   "source": [
    "# GET TAGS FROM DESCRIBE PER TEXT BY CHATGPT AND SAVE \n",
    "# save tag to ChatGPT/data/saved_data/tags_txt/{course.short_name}_tags.txt\n",
    "\n",
    "tags_txt = chat_gpt._get_and_save_tags_txt_for_course_by_descr(course=course, context=chatGPT_context)\n",
    "\n",
    "print(tags_txt)"
   ]
  },
  {
   "cell_type": "code",
   "execution_count": 6,
   "metadata": {},
   "outputs": [
    {
     "name": "stdout",
     "output_type": "stream",
     "text": [
      "[*] ChatGPT_main is working! [*]\n",
      "\n",
      "{1: Tag(id=1, title='алгебра', type=-1), 2: Tag(id=2, title='коммутативные кольца', type=-1), 3: Tag(id=3, title='алгебраическая геометрия', type=-1), 4: Tag(id=4, title='алгебраические многообразия', type=-1), 5: Tag(id=5, title='кольца целых алгебраических чисел', type=-1), 6: Tag(id=6, title='локализация', type=-1), 7: Tag(id=7, title='нормализация', type=-1), 8: Tag(id=8, title='пополнение', type=-1), 9: Tag(id=9, title='теорема Гильберта о нулях', type=-1), 10: Tag(id=10, title='Лемма Нетер', type=-1), 11: Tag(id=11, title='Структурная теорема Коэна', type=-1), 12: Tag(id=12, title='размерность Крулля', type=-1), 13: Tag(id=13, title='топология Зариского', type=-1), 14: Tag(id=14, title='локальная алгебраическая геометрия', type=-1), 15: Tag(id=15, title='литература', type=-1)}\n"
     ]
    }
   ],
   "source": [
    "# READ TAGS FROM TEXT\n",
    "# read tags_txt by short_name : ChatGPT/data/saved_data/tags_txt/{course.short_name}_tags.txt\n",
    "\n",
    "print(\"[*] ChatGPT_main is working! [*]\\n\")\n",
    "    \n",
    "tags_txt = chat_gpt._read_tags_txt_from_file(short_name=course.short_name)\n",
    "tags_list = chat_gpt._tags_txt_to_tags(tags_txt)\n",
    "\n",
    "print(tags_list)"
   ]
  },
  {
   "cell_type": "code",
   "execution_count": null,
   "metadata": {},
   "outputs": [],
   "source": []
  },
  {
   "cell_type": "code",
   "execution_count": 7,
   "metadata": {},
   "outputs": [
    {
     "name": "stdout",
     "output_type": "stream",
     "text": [
      "[\\*]CommAlg is downloaded -> c:\\Users\\nalex\\Desktop\\different\\feedback-system\\ranking\\ranking_system\\model_text_to_tags\\chatGPT\\data\\saved_data\\tags_json\\CommAlg_tags.json [*/]\n"
     ]
    }
   ],
   "source": [
    "\n",
    "chat_gpt._save_tags_json_to_file(short_name=\"CommAlg\", tags=tags_list, verbose=True)\n",
    "# chat_gpt._save_tags_json_to_file(short_name=\"CommAlg\", tags=context)\n",
    "\n"
   ]
  },
  {
   "cell_type": "code",
   "execution_count": null,
   "metadata": {},
   "outputs": [],
   "source": []
  },
  {
   "cell_type": "code",
   "execution_count": null,
   "metadata": {},
   "outputs": [],
   "source": []
  }
 ],
 "metadata": {
  "kernelspec": {
   "display_name": "Python 3",
   "language": "python",
   "name": "python3"
  },
  "language_info": {
   "codemirror_mode": {
    "name": "ipython",
    "version": 3
   },
   "file_extension": ".py",
   "mimetype": "text/x-python",
   "name": "python",
   "nbconvert_exporter": "python",
   "pygments_lexer": "ipython3",
   "version": "3.10.6"
  },
  "orig_nbformat": 4
 },
 "nbformat": 4,
 "nbformat_minor": 2
}
