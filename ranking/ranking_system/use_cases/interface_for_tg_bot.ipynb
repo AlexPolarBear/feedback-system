{
 "cells": [
  {
   "cell_type": "code",
   "execution_count": 1,
   "metadata": {},
   "outputs": [
    {
     "name": "stdout",
     "output_type": "stream",
     "text": [
      "c:\\Users\\nalex\\Desktop\\different\\feedback-system\\ranking\\ranking_system\n"
     ]
    }
   ],
   "source": [
    "import os, sys\n",
    "from pprint import pprint\n",
    "print(os.path.dirname(os.getcwd()))\n",
    "sys.path.append(os.path.dirname(os.getcwd()))\n",
    "\n",
    "\n",
    "from io_rankingSystem import IO_RankingSystem \n",
    "from rankingSystem import RankingSystem"
   ]
  },
  {
   "attachments": {},
   "cell_type": "markdown",
   "metadata": {},
   "source": [
    "# IO_RankingSystem \n",
    "## Наша база данных на JSON"
   ]
  },
  {
   "cell_type": "code",
   "execution_count": 2,
   "metadata": {},
   "outputs": [],
   "source": [
    "# Вот тут лежат наша JSON база данных\n",
    "## ranking_system.relevant_data \n",
    "# \n"
   ]
  },
  {
   "cell_type": "code",
   "execution_count": 3,
   "metadata": {},
   "outputs": [],
   "source": [
    "io_rk = IO_RankingSystem()"
   ]
  },
  {
   "cell_type": "code",
   "execution_count": 4,
   "metadata": {},
   "outputs": [],
   "source": [
    "user_json = {\n",
    "    \"chat_id\": 3,\n",
    "    \"context\": {},\n",
    "    \"direction\": \"Математика\",\n",
    "    \"email\": \"st324324324\",\n",
    "    \"name\": \"Иван Васильев\"\n",
    "}"
   ]
  },
  {
   "cell_type": "code",
   "execution_count": 5,
   "metadata": {},
   "outputs": [],
   "source": [
    "io_rk.save_user(**user_json)"
   ]
  },
  {
   "cell_type": "code",
   "execution_count": 6,
   "metadata": {},
   "outputs": [
    {
     "name": "stdout",
     "output_type": "stream",
     "text": [
      "User(chat_id=3,\n",
      "     name='Иван Васильев',\n",
      "     email='st324324324',\n",
      "     direction='Математика',\n",
      "     context={})\n"
     ]
    }
   ],
   "source": [
    "user_json_ = io_rk.load_user_json(chat_id=3)\n",
    "pprint(user_json_)"
   ]
  },
  {
   "cell_type": "code",
   "execution_count": 7,
   "metadata": {},
   "outputs": [
    {
     "name": "stdout",
     "output_type": "stream",
     "text": [
      "False\n",
      "True\n",
      "True\n",
      "User(chat_id=3,\n",
      "     name='Иван Васильев',\n",
      "     email='st324324324',\n",
      "     direction='Математика',\n",
      "     context={'Алгебра': 'Алгебра', 'Теория категорий': 'Теория категорий'})\n"
     ]
    }
   ],
   "source": [
    "# Лучше добавлять Пользователя с пустым контекстом, а потом добавлять к нему теги через интерфейс\n",
    "# ВАЖНО: добавится тег только тот который есть в корпусе тегов  [Объединение тегов]!  Они лежат вот тут:\n",
    "# all_tags/all_tags.json\n",
    "is_add =  io_rk.add_tag_to_user(chat_id=3, tag_title=\"Теория категорийй\")\n",
    "print(is_add)\n",
    "is_add =  io_rk.add_tag_to_user(chat_id=3, tag_title=\"Теория категорий\")\n",
    "is_add_ =  io_rk.add_tag_to_user(chat_id=3, tag_title=\"Алгебра\")\n",
    "\n",
    "print(is_add)\n",
    "print(is_add_)\n",
    "\n",
    "user_json_ = io_rk.load_user_json(chat_id=3)\n",
    "pprint(user_json_)"
   ]
  },
  {
   "cell_type": "code",
   "execution_count": 9,
   "metadata": {},
   "outputs": [
    {
     "name": "stdout",
     "output_type": "stream",
     "text": [
      "User(chat_id=3,\n",
      "     name='Иван Васильев',\n",
      "     email='st324324324',\n",
      "     direction='Математика',\n",
      "     context={'Алгебра': 'Алгебра'})\n"
     ]
    }
   ],
   "source": [
    "io_rk.delete_tag_from_user(chat_id=3, tag_title=\"Теория категорий\")\n",
    "user_json_ = io_rk.load_user_json(chat_id=3)\n",
    "pprint(user_json_)"
   ]
  },
  {
   "cell_type": "code",
   "execution_count": null,
   "metadata": {},
   "outputs": [],
   "source": []
  },
  {
   "attachments": {},
   "cell_type": "markdown",
   "metadata": {},
   "source": [
    "# RankingSystem\n",
    "## Рекомендательная система \n",
    "\n",
    "Работает пока плохо. Нужно: \n",
    "* Докачать все текстовые описания курсов\n",
    "* Сгенерировать автоматизировано теги GPT и потом их почистить уже руками\n",
    "* Иеархию отдельно на 20 тегов придумать и закостылить для адекватных базовых тегов.\n",
    "* Расстояние Левенштейна работает плохо : если правилньо ввели одно слово, а тег большой, то он выбирает его стереть и любой маленький написать\n",
    "* Пофильтровать теги и руками распределить популярные математические теги\n",
    "* Стеменговать теги и убрать мусор : цифры, ...\n",
    "\n",
    ":(((( и ещё можно придумать ....."
   ]
  },
  {
   "cell_type": "code",
   "execution_count": null,
   "metadata": {},
   "outputs": [],
   "source": []
  },
  {
   "cell_type": "code",
   "execution_count": 10,
   "metadata": {},
   "outputs": [],
   "source": [
    "# при инициализации подтягивает данные о тегах, юзеров, курсах\n",
    "rk = RankingSystem()"
   ]
  },
  {
   "cell_type": "code",
   "execution_count": 12,
   "metadata": {},
   "outputs": [],
   "source": [
    "# Есть возможность обновить БД, но нет необходимости!\n",
    "# Единствееный момент, когда пришёл новый юзер, тогда он сам подтянет данные о нём после того как не найдёт\n",
    "rk.update_courses()\n",
    "rk.update_tags()\n",
    "rk.update_users()"
   ]
  },
  {
   "cell_type": "code",
   "execution_count": 14,
   "metadata": {},
   "outputs": [
    {
     "name": "stdout",
     "output_type": "stream",
     "text": [
      "[{'context': {'Аддитивная теория чисел': 'Аддитивная теория чисел',\n",
      "              'Алгебра': 'Алгебра',\n",
      "              'Гладкие алгебры': 'Гладкие алгебры',\n",
      "              'Графы Кэли': 'Графы Кэли',\n",
      "              'Группа автоморфизмов': 'Группа автоморфизмов',\n",
      "              'Действие перечислительных формул': 'Действие перечислительных '\n",
      "                                                  'формул',\n",
      "              'Декомпозиционные матричные алгебры': 'Декомпозиционные '\n",
      "                                                    'матричные алгебры',\n",
      "              'Дихотомия МакМагона': 'Дихотомия МакМагона',\n",
      "              'Канонические базисы': 'Канонические базисы',\n",
      "              'Квазитреугольные алгебры': 'Квазитреугольные алгебры',\n",
      "              'Классификация атлинных алгебр': 'Классификация атлинных алгебр',\n",
      "              'Комбинаторика': 'Комбинаторика',\n",
      "              'Конечномерные представления': 'Конечномерные представления',\n",
      "              'Леммы Бернсайда': 'Леммы Бернсайда',\n",
      "              'Линейные группы': 'Линейные группы',\n",
      "              'Модули': 'Модули',\n",
      "              'Объекты без фиксированных точек': 'Объекты без фиксированных '\n",
      "                                                 'точек',\n",
      "              'Разложение полного графа': 'Разложение полного графа',\n",
      "              'Разностные множества': 'Разностные множества',\n",
      "              'Регулярные объекты': 'Регулярные объекты',\n",
      "              'Структуры': 'Структуры',\n",
      "              'Супералгебры': 'Супералгебры',\n",
      "              'Схемы отношений': 'Схемы отношений',\n",
      "              'Тензорное произведение': 'Тензорное произведение',\n",
      "              'Теорема Шура-Вейля': 'Теорема Шура-Вейля',\n",
      "              'Теория Галуа': 'Теория Галуа',\n",
      "              'Теория Делена-Малцева': 'Теория Делена-Малцева',\n",
      "              'Теория колец Шура': 'Теория колец Шура',\n",
      "              'Циклические модули': 'Циклические модули'},\n",
      "  'description': 'https://drive.google.com/file/d/1kCfUnUkVpReEi9F3kpjHJOpjdfr3PgZL/view?usp=sharing',\n",
      "  'direction': 'М3–4, НоД3–4',\n",
      "  'field_of_knowledge': 'Алгебра',\n",
      "  'full_name': 'Кольца Шура',\n",
      "  'id': 51,\n",
      "  'lecturer_id': 12,\n",
      "  'short_name': 'Schur',\n",
      "  'size': 'малый (1)',\n",
      "  'year': '2023'},\n",
      " {'context': {'Стандартные формы': 'Стандартные формы',\n",
      "              'Теорема Перрона-Фробениуса': 'Теорема Перрона-Фробениуса',\n",
      "              'Теорема Синкхорна': 'Теорема Синкхорна',\n",
      "              'Теорема Фан Ци': 'Теорема Фан Ци',\n",
      "              'алгебраические структуры': 'алгебраические структуры',\n",
      "              'анализ матриц': 'анализ матриц',\n",
      "              'векторные операции': 'векторные операции',\n",
      "              'вполне положительные матрицы': 'вполне положительные матрицы',\n",
      "              'вполне унимодулярные матрицы': 'вполне унимодулярные матрицы',\n",
      "              'линейная алгебра': 'линейная алгебра',\n",
      "              'линейная оптимизация': 'линейная оптимизация',\n",
      "              'лучшие практики программирования': 'лучшие практики '\n",
      "                                                  'программирования',\n",
      "              'матричные вычисления': 'матричные вычисления',\n",
      "              'метод wiring-диаграмм': 'метод wiring-диаграмм',\n",
      "              'миноры матриц': 'миноры матриц',\n",
      "              'неотрицательные матрицы': 'неотрицательные матрицы',\n",
      "              'неравенства Адамара': 'неравенства Адамара',\n",
      "              'нормы Шаттена': 'нормы Шаттена',\n",
      "              'общая алгебра': 'общая алгебра',\n",
      "              'полная унимодулярность': 'полная унимодулярность',\n",
      "              'приближение матриц': 'приближение матриц',\n",
      "              'сетевые матрицы': 'сетевые матрицы',\n",
      "              'сингулярное разложение': 'сингулярное разложение',\n",
      "              'собственные числа': 'собственные числа',\n",
      "              'спектральные свойства': 'спектральные свойства',\n",
      "              'теорема Гантмахера-Крей': 'теорема Гантмахера-Крей',\n",
      "              'теорема Сеймура': 'теорема Сеймура',\n",
      "              'тесты на полную унимодулярность': 'тесты на полную '\n",
      "                                                 'унимодулярность',\n",
      "              'целочисленное линейное программирование': 'целочисленное '\n",
      "                                                         'линейное '\n",
      "                                                         'программирование'},\n",
      "  'description': 'https://drive.google.com/open?id=1YcDLLew9TDUvoFv3OvBBEJX7qfiXj4hm',\n",
      "  'direction': 'М3–4, НоД3–4',\n",
      "  'field_of_knowledge': 'Алгебра',\n",
      "  'full_name': 'Дополнительные главы линейной алгебры',\n",
      "  'id': 3,\n",
      "  'lecturer_id': 1,\n",
      "  'short_name': 'LinAlg',\n",
      "  'size': 'малый (1)',\n",
      "  'year': '2023'},\n",
      " {'context': {'Benjamin/Cummings Publishing Co.': 'Benjamin/Cummings '\n",
      "                                                  'Publishing Co.',\n",
      "              'Berlin Heidelberg New York': 'Berlin Heidelberg New York',\n",
      "              'H. Matsumura': 'H. Matsumura',\n",
      "              'J.-P. Serre': 'J.-P. Serre',\n",
      "              'Reading': 'Reading',\n",
      "              'Springer-Verlag': 'Springer-Verlag',\n",
      "              'Д. Айзенбад': 'Д. Айзенбад',\n",
      "              'И. Макдональд': 'И. Макдональд',\n",
      "              'М. Атья': 'М. Атья',\n",
      "              'МЦНМО': 'МЦНМО',\n",
      "              'Мир': 'Мир',\n",
      "              'Москва': 'Москва',\n",
      "              'алгебраическая геометрия': 'алгебраическая геометрия',\n",
      "              'алгебраические многообразия': 'алгебраические многообразия',\n",
      "              'атласы': 'атласы',\n",
      "              'геометрические объекты': 'геометрические объекты',\n",
      "              'дедекиндовы кольца': 'дедекиндовы кольца',\n",
      "              'кольца целых алгебраических чисел': 'кольца целых '\n",
      "                                                   'алгебраических чисел',\n",
      "              'коммутативные колца': 'коммутативные колца',\n",
      "              'лемма Нетер о нормализации': 'лемма Нетер о нормализации',\n",
      "              'литература': 'литература',\n",
      "              'локализация': 'локализация',\n",
      "              'локальная алгебраическая геометрия': 'локальная алгебраическая '\n",
      "                                                    'геометрия',\n",
      "              'нормализация': 'нормализация',\n",
      "              'пополнение': 'пополнение',\n",
      "              'структурная теорема Коэна': 'структурная теорема Коэна',\n",
      "              'теорема Гильберта о нулях': 'теорема Гильберта о нулях',\n",
      "              'теория размерности Крулля': 'теория размерности Крулля',\n",
      "              'теория чисел': 'теория чисел',\n",
      "              'топология Зариского': 'топология Зариского'},\n",
      "  'description': 'https://drive.google.com/file/d/1Wep2itH_q_UwHWB7pC2phgCmwyZyzEq6/view?usp=sharing',\n",
      "  'direction': 'М3–4, НоД3–4, СМ1–2',\n",
      "  'field_of_knowledge': 'Алгебра',\n",
      "  'full_name': 'Коммутативная алгебра',\n",
      "  'id': 4,\n",
      "  'lecturer_id': 2,\n",
      "  'short_name': 'CommAlg',\n",
      "  'size': 'малый (1)',\n",
      "  'year': '2023'}]\n"
     ]
    }
   ],
   "source": [
    "# для юзера по его тегам выбрать подходящии курсы\n",
    "top_courses_json = rk.get_top_relevant_UserCourse(chat_id=3, max_count=3)\n",
    "pprint(top_courses_json)"
   ]
  },
  {
   "cell_type": "code",
   "execution_count": 30,
   "metadata": {},
   "outputs": [
    {
     "name": "stdout",
     "output_type": "stream",
     "text": [
      "[{'id': None, 'title': 'Теория Галуа', 'type': None},\n",
      " {'id': None, 'title': 'Теория', 'type': None},\n",
      " {'id': None, 'title': 'Теория полей', 'type': None}]\n"
     ]
    }
   ],
   "source": [
    "# Поприблизительному названия выдаём похожие из нашего корпуса теги\n",
    "list_tags_json = rk.get_top_suitable_tags_by_text(\"Теория Кат\", max_count=3)\n",
    "pprint(list_tags_json)"
   ]
  },
  {
   "cell_type": "code",
   "execution_count": 17,
   "metadata": {},
   "outputs": [
    {
     "name": "stdout",
     "output_type": "stream",
     "text": [
      "[{'id': None, 'title': 'алгебры Ли', 'type': None},\n",
      " {'id': None, 'title': 'параметры', 'type': None},\n",
      " {'id': None, 'title': 'Преобразование Лежандра', 'type': None}]\n"
     ]
    }
   ],
   "source": [
    "# Выдать пользователю теги по его контексту \n",
    "list_tags_json =  rk.get_top_suitable_tags_by_context(chat_id=3, max_count=3)\n",
    "pprint(list_tags_json)"
   ]
  },
  {
   "cell_type": "code",
   "execution_count": 27,
   "metadata": {},
   "outputs": [
    {
     "name": "stdout",
     "output_type": "stream",
     "text": [
      "'Введение в глубокое обучение на практике'\n"
     ]
    }
   ],
   "source": [
    "# по приблизительному названию курса предлагает подходящии курсы \n",
    "## нужно добавить к этому поиск по тегу [не отдельно, а вместе наверно]\n",
    "list_courses_json =  rk.get_top_suitable_courses_by_text(\"Введение в глубокое обучение на\", max_count=3)\n",
    "pprint(list_courses_json[0][\"full_name\"])"
   ]
  },
  {
   "cell_type": "code",
   "execution_count": null,
   "metadata": {},
   "outputs": [],
   "source": []
  },
  {
   "cell_type": "code",
   "execution_count": null,
   "metadata": {},
   "outputs": [],
   "source": []
  },
  {
   "cell_type": "code",
   "execution_count": null,
   "metadata": {},
   "outputs": [],
   "source": []
  },
  {
   "cell_type": "code",
   "execution_count": null,
   "metadata": {},
   "outputs": [],
   "source": []
  }
 ],
 "metadata": {
  "kernelspec": {
   "display_name": "Python 3",
   "language": "python",
   "name": "python3"
  },
  "language_info": {
   "codemirror_mode": {
    "name": "ipython",
    "version": 3
   },
   "file_extension": ".py",
   "mimetype": "text/x-python",
   "name": "python",
   "nbconvert_exporter": "python",
   "pygments_lexer": "ipython3",
   "version": "3.10.6"
  },
  "orig_nbformat": 4
 },
 "nbformat": 4,
 "nbformat_minor": 2
}
