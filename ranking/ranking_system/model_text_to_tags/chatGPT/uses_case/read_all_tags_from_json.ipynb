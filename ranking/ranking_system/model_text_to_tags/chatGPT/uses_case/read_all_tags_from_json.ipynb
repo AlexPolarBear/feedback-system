{
 "cells": [
  {
   "cell_type": "code",
   "execution_count": 1,
   "metadata": {},
   "outputs": [
    {
     "name": "stdout",
     "output_type": "stream",
     "text": [
      "c:\\Users\\nalex\\Desktop\\different\\feedback-system\\ranking\\ranking_system\\model_text_to_tags\\chatGPT\n",
      "c:\\Users\\nalex\\Desktop\\different\\feedback-system\\ranking\\ranking_system\n"
     ]
    }
   ],
   "source": [
    "import os \n",
    "import sys\n",
    "\n",
    "# add moduls ranking_system, chatGPT\n",
    "print(os.path.dirname(os.getcwd()))\n",
    "sys.path.append(os.path.dirname(os.getcwd()))\n",
    "\n",
    "print(os.path.dirname(os.path.dirname(os.path.dirname(os.getcwd()))))\n",
    "sys.path.append(os.path.dirname(os.path.dirname(os.path.dirname(os.getcwd()))))"
   ]
  },
  {
   "cell_type": "code",
   "execution_count": 2,
   "metadata": {},
   "outputs": [],
   "source": [
    "import pprint"
   ]
  },
  {
   "cell_type": "code",
   "execution_count": 3,
   "metadata": {},
   "outputs": [],
   "source": [
    "from chatGPT import ChatGPT\n"
   ]
  },
  {
   "cell_type": "code",
   "execution_count": 4,
   "metadata": {},
   "outputs": [],
   "source": [
    "chat_gpt = ChatGPT()"
   ]
  },
  {
   "cell_type": "code",
   "execution_count": 5,
   "metadata": {},
   "outputs": [],
   "source": [
    "courses = chat_gpt.read_all_courses_json_to_courses()"
   ]
  },
  {
   "cell_type": "code",
   "execution_count": 6,
   "metadata": {},
   "outputs": [
    {
     "name": "stdout",
     "output_type": "stream",
     "text": [
      "[Course(short_name='CommAlg_tags',\n",
      "        description='Context already ready!',\n",
      "        id=None,\n",
      "        field_of_knowledge=None,\n",
      "        full_name=None,\n",
      "        size=None,\n",
      "        lecturer_id=None,\n",
      "        year=None,\n",
      "        context=Context(context={'алгебраическая геометрия': Tag(id=-1,\n",
      "                                                                 title='алгебраическая '\n",
      "                                                                       'геометрия',\n",
      "                                                                 type=-1),\n",
      "                                 'алгебраическая теория чисел': Tag(id=-1,\n",
      "                                                                    title='алгебраическая '\n",
      "                                                                          'теория '\n",
      "                                                                          'чисел',\n",
      "                                                                    type=-1),\n",
      "                                 'атласы': Tag(id=-1, title='атласы', type=-1),\n",
      "                                 'дедекиндовы кольца': Tag(id=-1,\n",
      "                                                           title='дедекиндовы '\n",
      "                                                                 'кольца',\n",
      "                                                           type=-1),\n",
      "                                 'кольца целых алгебраических чисел': Tag(id=-1,\n",
      "                                                                          title='кольца '\n",
      "                                                                                'целых '\n",
      "                                                                                'алгебраических '\n",
      "                                                                                'чисел',\n",
      "                                                                          type=-1),\n",
      "                                 'коммутативные колца': Tag(id=-1,\n",
      "                                                            title='коммутативные '\n",
      "                                                                  'колца',\n",
      "                                                            type=-1),\n",
      "                                 'лемма Нетер о нормализации': Tag(id=-1,\n",
      "                                                                   title='лемма '\n",
      "                                                                         'Нетер '\n",
      "                                                                         'о '\n",
      "                                                                         'нормализации',\n",
      "                                                                   type=-1),\n",
      "                                 'локализация': Tag(id=-1,\n",
      "                                                    title='локализация',\n",
      "                                                    type=-1),\n",
      "                                 'локальная алгебраическая геометрия': Tag(id=-1,\n",
      "                                                                           title='локальная '\n",
      "                                                                                 'алгебраическая '\n",
      "                                                                                 'геометрия',\n",
      "                                                                           type=-1),\n",
      "                                 'нормализация': Tag(id=-1,\n",
      "                                                     title='нормализация',\n",
      "                                                     type=-1),\n",
      "                                 'пополнение': Tag(id=-1,\n",
      "                                                   title='пополнение',\n",
      "                                                   type=-1),\n",
      "                                 'структурная теорема Коэна': Tag(id=-1,\n",
      "                                                                  title='структурная '\n",
      "                                                                        'теорема '\n",
      "                                                                        'Коэна',\n",
      "                                                                  type=-1),\n",
      "                                 'теорема Гильберта о нулях': Tag(id=-1,\n",
      "                                                                  title='теорема '\n",
      "                                                                        'Гильберта '\n",
      "                                                                        'о '\n",
      "                                                                        'нулях',\n",
      "                                                                  type=-1),\n",
      "                                 'теория размерности Крулля': Tag(id=-1,\n",
      "                                                                  title='теория '\n",
      "                                                                        'размерности '\n",
      "                                                                        'Крулля',\n",
      "                                                                  type=-1),\n",
      "                                 'топология Зариского': Tag(id=-1,\n",
      "                                                            title='топология '\n",
      "                                                                  'Зариского',\n",
      "                                                            type=-1)})),\n",
      " Course(short_name='DeepLearn_tags',\n",
      "        description='Context already ready!',\n",
      "        id=None,\n",
      "        field_of_knowledge=None,\n",
      "        full_name=None,\n",
      "        size=None,\n",
      "        lecturer_id=None,\n",
      "        year=None,\n",
      "        context=Context(context={'глубокое обучение': Tag(id=-1,\n",
      "                                                          title='глубокое '\n",
      "                                                                'обучение',\n",
      "                                                          type=-1),\n",
      "                                 'компьютерное зрение': Tag(id=-1,\n",
      "                                                            title='компьютерное '\n",
      "                                                                  'зрение',\n",
      "                                                            type=-1),\n",
      "                                 'машинное обучение': Tag(id=-1,\n",
      "                                                          title='машинное '\n",
      "                                                                'обучение',\n",
      "                                                          type=-1),\n",
      "                                 'нейронные сети': Tag(id=-1,\n",
      "                                                       title='нейронные сети',\n",
      "                                                       type=-1),\n",
      "                                 'обработка естественного языка': Tag(id=-1,\n",
      "                                                                      title='обработка '\n",
      "                                                                            'естественного '\n",
      "                                                                            'языка',\n",
      "                                                                      type=-1),\n",
      "                                 'распознавание речи': Tag(id=-1,\n",
      "                                                           title='распознавание '\n",
      "                                                                 'речи',\n",
      "                                                           type=-1)})),\n",
      " Course(short_name='VarCalc_tags',\n",
      "        description='Context already ready!',\n",
      "        id=None,\n",
      "        field_of_knowledge=None,\n",
      "        full_name=None,\n",
      "        size=None,\n",
      "        lecturer_id=None,\n",
      "        year=None,\n",
      "        context=Context(context={'вариационное исчисление': Tag(id=-1,\n",
      "                                                                title='вариационное '\n",
      "                                                                      'исчисление',\n",
      "                                                                type=-1),\n",
      "                                 'краевые задачи': Tag(id=-1,\n",
      "                                                       title='краевые задачи',\n",
      "                                                       type=-1),\n",
      "                                 'метод Нехари': Tag(id=-1,\n",
      "                                                     title='метод Нехари',\n",
      "                                                     type=-1),\n",
      "                                 'метод движущихся плоскостей': Tag(id=-1,\n",
      "                                                                    title='метод '\n",
      "                                                                          'движущихся '\n",
      "                                                                          'плоскостей',\n",
      "                                                                    type=-1),\n",
      "                                 'неравенство Пойа-Сеге': Tag(id=-1,\n",
      "                                                              title='неравенство '\n",
      "                                                                    'Пойа-Сеге',\n",
      "                                                              type=-1),\n",
      "                                 'неравенство Рисса': Tag(id=-1,\n",
      "                                                          title='неравенство '\n",
      "                                                                'Рисса',\n",
      "                                                          type=-1),\n",
      "                                 'принцип Лионса': Tag(id=-1,\n",
      "                                                       title='принцип Лионса',\n",
      "                                                       type=-1),\n",
      "                                 'пространства Соболева': Tag(id=-1,\n",
      "                                                              title='пространства '\n",
      "                                                                    'Соболева',\n",
      "                                                              type=-1),\n",
      "                                 'существование минимума': Tag(id=-1,\n",
      "                                                               title='существование '\n",
      "                                                                     'минимума',\n",
      "                                                               type=-1),\n",
      "                                 'тождество Похожаева': Tag(id=-1,\n",
      "                                                            title='тождество '\n",
      "                                                                  'Похожаева',\n",
      "                                                            type=-1),\n",
      "                                 'уравнения в частных производных': Tag(id=-1,\n",
      "                                                                        title='уравнения '\n",
      "                                                                              'в '\n",
      "                                                                              'частных '\n",
      "                                                                              'производных',\n",
      "                                                                        type=-1)}))]\n"
     ]
    }
   ],
   "source": [
    "pprint.pprint(courses)"
   ]
  },
  {
   "cell_type": "code",
   "execution_count": 7,
   "metadata": {},
   "outputs": [
    {
     "name": "stdout",
     "output_type": "stream",
     "text": [
      "[\\*]all_tags is downloaded -> c:\\Users\\nalex\\Desktop\\different\\feedback-system\\ranking\\ranking_system\\model_text_to_tags\\chatGPT\\data\\saved_data\\all_tags_json\\all_tags_tags.json [*/]\n"
     ]
    }
   ],
   "source": [
    "chat_gpt.load_union_save_all_tags(verbose=True)"
   ]
  },
  {
   "cell_type": "code",
   "execution_count": 8,
   "metadata": {},
   "outputs": [],
   "source": [
    "all_tags = chat_gpt.load_all_tags()"
   ]
  },
  {
   "cell_type": "code",
   "execution_count": 10,
   "metadata": {},
   "outputs": [
    {
     "name": "stdout",
     "output_type": "stream",
     "text": [
      "{'алгебраическая геометрия': Tag(id=-1,\n",
      "                                 title='алгебраическая геометрия',\n",
      "                                 type=-1),\n",
      " 'алгебраическая теория чисел': Tag(id=-1,\n",
      "                                    title='алгебраическая теория чисел',\n",
      "                                    type=-1),\n",
      " 'атласы': Tag(id=-1, title='атласы', type=-1),\n",
      " 'вариационное исчисление': Tag(id=-1,\n",
      "                                title='вариационное исчисление',\n",
      "                                type=-1),\n",
      " 'глубокое обучение': Tag(id=-1, title='глубокое обучение', type=-1),\n",
      " 'дедекиндовы кольца': Tag(id=-1, title='дедекиндовы кольца', type=-1),\n",
      " 'кольца целых алгебраических чисел': Tag(id=-1,\n",
      "                                          title='кольца целых алгебраических '\n",
      "                                                'чисел',\n",
      "                                          type=-1),\n",
      " 'коммутативные колца': Tag(id=-1, title='коммутативные колца', type=-1),\n",
      " 'компьютерное зрение': Tag(id=-1, title='компьютерное зрение', type=-1),\n",
      " 'краевые задачи': Tag(id=-1, title='краевые задачи', type=-1),\n",
      " 'лемма Нетер о нормализации': Tag(id=-1,\n",
      "                                   title='лемма Нетер о нормализации',\n",
      "                                   type=-1),\n",
      " 'локализация': Tag(id=-1, title='локализация', type=-1),\n",
      " 'локальная алгебраическая геометрия': Tag(id=-1,\n",
      "                                           title='локальная алгебраическая '\n",
      "                                                 'геометрия',\n",
      "                                           type=-1),\n",
      " 'машинное обучение': Tag(id=-1, title='машинное обучение', type=-1),\n",
      " 'метод Нехари': Tag(id=-1, title='метод Нехари', type=-1),\n",
      " 'метод движущихся плоскостей': Tag(id=-1,\n",
      "                                    title='метод движущихся плоскостей',\n",
      "                                    type=-1),\n",
      " 'нейронные сети': Tag(id=-1, title='нейронные сети', type=-1),\n",
      " 'неравенство Пойа-Сеге': Tag(id=-1, title='неравенство Пойа-Сеге', type=-1),\n",
      " 'неравенство Рисса': Tag(id=-1, title='неравенство Рисса', type=-1),\n",
      " 'нормализация': Tag(id=-1, title='нормализация', type=-1),\n",
      " 'обработка естественного языка': Tag(id=-1,\n",
      "                                      title='обработка естественного языка',\n",
      "                                      type=-1),\n",
      " 'пополнение': Tag(id=-1, title='пополнение', type=-1),\n",
      " 'принцип Лионса': Tag(id=-1, title='принцип Лионса', type=-1),\n",
      " 'пространства Соболева': Tag(id=-1, title='пространства Соболева', type=-1),\n",
      " 'распознавание речи': Tag(id=-1, title='распознавание речи', type=-1),\n",
      " 'структурная теорема Коэна': Tag(id=-1,\n",
      "                                  title='структурная теорема Коэна',\n",
      "                                  type=-1),\n",
      " 'существование минимума': Tag(id=-1, title='существование минимума', type=-1),\n",
      " 'теорема Гильберта о нулях': Tag(id=-1,\n",
      "                                  title='теорема Гильберта о нулях',\n",
      "                                  type=-1),\n",
      " 'теория размерности Крулля': Tag(id=-1,\n",
      "                                  title='теория размерности Крулля',\n",
      "                                  type=-1),\n",
      " 'тождество Похожаева': Tag(id=-1, title='тождество Похожаева', type=-1),\n",
      " 'топология Зариского': Tag(id=-1, title='топология Зариского', type=-1),\n",
      " 'уравнения в частных производных': Tag(id=-1,\n",
      "                                        title='уравнения в частных производных',\n",
      "                                        type=-1)}\n"
     ]
    }
   ],
   "source": [
    "pprint.pprint(all_tags)"
   ]
  },
  {
   "cell_type": "code",
   "execution_count": null,
   "metadata": {},
   "outputs": [],
   "source": []
  }
 ],
 "metadata": {
  "kernelspec": {
   "display_name": "Python 3",
   "language": "python",
   "name": "python3"
  },
  "language_info": {
   "codemirror_mode": {
    "name": "ipython",
    "version": 3
   },
   "file_extension": ".py",
   "mimetype": "text/x-python",
   "name": "python",
   "nbconvert_exporter": "python",
   "pygments_lexer": "ipython3",
   "version": "3.10.6"
  },
  "orig_nbformat": 4
 },
 "nbformat": 4,
 "nbformat_minor": 2
}
