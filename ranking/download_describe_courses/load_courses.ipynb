{
 "cells": [
  {
   "cell_type": "code",
   "execution_count": 42,
   "id": "fa5c08d0",
   "metadata": {},
   "outputs": [],
   "source": [
    "import os, sys\n",
    "import gdown\n",
    "import codecs\n",
    "import json\n",
    "import pprint\n",
    "from PyPDF2 import PdfReader\n",
    "import docx2txt\n",
    "import wget\n"
   ]
  },
  {
   "cell_type": "code",
   "execution_count": null,
   "id": "00a1cb75",
   "metadata": {},
   "outputs": [],
   "source": []
  },
  {
   "cell_type": "code",
   "execution_count": 43,
   "id": "d7db25cb",
   "metadata": {},
   "outputs": [],
   "source": [
    "# !pip install gdown\n",
    "# !pip install PyPDF2\n",
    "# !pip install docx2txt\n",
    "# !pip install wget\n"
   ]
  },
  {
   "cell_type": "code",
   "execution_count": 44,
   "id": "24c05010",
   "metadata": {},
   "outputs": [],
   "source": [
    "PATH_TO_COURSE_DATA = os.path.join(\"data\")\n",
    "\n",
    "PATH_TO_COURSES_TXT = os.path.join(PATH_TO_COURSE_DATA, \"courses_txt\")\n",
    "PATH_TO_COURSE_JSON = os.path.join(PATH_TO_COURSE_DATA, \"courses.json\")"
   ]
  },
  {
   "cell_type": "code",
   "execution_count": null,
   "id": "f076ed43",
   "metadata": {},
   "outputs": [],
   "source": []
  },
  {
   "cell_type": "code",
   "execution_count": null,
   "id": "e60d2439",
   "metadata": {},
   "outputs": [],
   "source": []
  },
  {
   "cell_type": "code",
   "execution_count": 74,
   "id": "b1ffae07",
   "metadata": {},
   "outputs": [],
   "source": [
    "def load_from_txt(path : str, if_change_codec : bool = False):\n",
    "    # http://alexei.stepanov.spb.ru/students/Abstracts/ClusterAlg.txt\n",
    "    text = None\n",
    "    f = None\n",
    "    if if_change_codec:\n",
    "        f = codecs.open(path, 'r', 'cp1251')\n",
    "    else:\n",
    "        f = codecs.open(path, 'r')\n",
    "    is_read = False\n",
    "    \n",
    "    try:\n",
    "        text = f.read()   # now the contents have been transformed to a Unicode string\n",
    "        is_read = True\n",
    "        file_type = \"txt\"\n",
    "    except:\n",
    "        print(f\"Это не txt :( !!!\")\n",
    "    \n",
    "    return text, is_read\n",
    "\n",
    "\n",
    "def load_from_pdf(path : str):\n",
    "    text = None\n",
    "    is_read = False\n",
    "    \n",
    "    try:\n",
    "        reader = PdfReader(path)\n",
    "        text = reader.pages[0].extract_text()\n",
    "        is_read = True\n",
    "        file_type = \"pdf\"\n",
    "    except:\n",
    "        print(f\"Это не pdf !!!\")\n",
    "    \n",
    "    return text, is_read\n",
    "\n",
    "def load_from_docx(path : str):\n",
    "    # https://drive.google.com/uc?id=1OzogYQIQ8lf6HBYvM6wjhsGAcSN2TbQY\n",
    "    text = None\n",
    "    is_read = False\n",
    "    \n",
    "    try:\n",
    "        text = docx2txt.process(path)\n",
    "        is_read = True\n",
    "        file_type = \"docx\"\n",
    "    except:\n",
    "        print(f\"Это не docx !!!\")\n",
    "    \n",
    "    return text, is_read\n",
    "\n",
    "\n"
   ]
  },
  {
   "cell_type": "code",
   "execution_count": null,
   "id": "9c05b247",
   "metadata": {},
   "outputs": [],
   "source": []
  },
  {
   "cell_type": "code",
   "execution_count": 68,
   "id": "d753f431",
   "metadata": {},
   "outputs": [],
   "source": [
    "def convert_to_text(path : str):\n",
    "    print(f\"convert_to_text: output_path={path}\")\n",
    "    \n",
    "    file_type = None    \n",
    "    \n",
    "    text, ok = load_from_txt(output_path)\n",
    "    if not ok:\n",
    "        text, ok = load_from_txt(output_path, if_change_codec=True)\n",
    "    if not ok:\n",
    "        text, ok = load_from_pdf(output_path)\n",
    "    if not ok:\n",
    "        text, ok = load_from_docx(output_path)\n",
    "    \n",
    "    if not ok:\n",
    "        print(f\"convert_to_text: [IS NOT DEFAULT] output_path={path}\")\n",
    "        return None\n",
    "    out = open(path, 'w', encoding='utf-8')\n",
    "    out.write(text)   # and now the contents h\n",
    "    \n",
    "    return file_type"
   ]
  },
  {
   "cell_type": "code",
   "execution_count": null,
   "id": "8ab41ccc",
   "metadata": {},
   "outputs": [],
   "source": []
  },
  {
   "cell_type": "code",
   "execution_count": 69,
   "id": "503e7ea1",
   "metadata": {},
   "outputs": [],
   "source": [
    "# def download_course(link : str, course_short_name: str, output_path_to_dir=PATH_TO_COURSES_TXT):\n",
    "#     print(f\"download_course: {course_short_name}, url={link}\")\n",
    "#     output_path = os.path.join(output_path_to_dir, f\"{course_short_name}.txt\")\n",
    "    \n",
    "    \n",
    "#     gdown.download(link, output_path, quiet=False, fuzzy=True, use_cookies=True)\n",
    "    \n",
    "#     file_type = change_codec(output_path)\n",
    "#     print(f\"{course_short_name} [{file_type}] ready: {link}\")\n",
    "    \n",
    "    "
   ]
  },
  {
   "cell_type": "code",
   "execution_count": 70,
   "id": "6f1fabbd",
   "metadata": {},
   "outputs": [],
   "source": [
    "def is_google_drive(link: str):\n",
    "    ok = False\n",
    "    trigger = \"sharing\"\n",
    "    if link[-len(trigger):] == trigger:\n",
    "        ok = True\n",
    "    return ok\n",
    "    \n",
    "\n",
    "def is_txt_link(link : str):\n",
    "    ok = False\n",
    "    trigger = \"txt\"\n",
    "    if link[-len(trigger):] == trigger:\n",
    "        ok = True\n",
    "    return ok\n",
    "    \n",
    "def is_pdf_link(link : str):\n",
    "    ok = False\n",
    "    trigger = \"pdf\"\n",
    "    if link[-len(trigger):] == trigger:\n",
    "        ok = True\n",
    "    return ok\n",
    "\n",
    "def is_htm_link(link : str):\n",
    "    ok = False\n",
    "    trigger = \"htm\"\n",
    "    if link[-len(trigger):] == trigger:\n",
    "        ok = True\n",
    "    return ok\n",
    "    "
   ]
  },
  {
   "cell_type": "code",
   "execution_count": null,
   "id": "90dae0e7",
   "metadata": {},
   "outputs": [],
   "source": []
  },
  {
   "cell_type": "code",
   "execution_count": 71,
   "id": "3b5e59fe",
   "metadata": {},
   "outputs": [],
   "source": [
    "courses_json = json.load(open(PATH_TO_COURSE_JSON, \"r\", encoding=\"utf-8\"))"
   ]
  },
  {
   "cell_type": "code",
   "execution_count": 72,
   "id": "20e855df",
   "metadata": {},
   "outputs": [],
   "source": [
    "ban_list = [\"AdvComb\", \"NonClassL\", \"NonStandard\", \"Logic\",\n",
    "           \"MachLPr\", \"NLPcourse\", \"PracticalRL\", \"PracticalDL\", \"SelfDriving\", \"SpeechCourse\"]"
   ]
  },
  {
   "cell_type": "code",
   "execution_count": 73,
   "id": "f93bfc27",
   "metadata": {},
   "outputs": [
    {
     "name": "stdout",
     "output_type": "stream",
     "text": [
      "Teichmull скачан с txt\n",
      "\r",
      "  0% [                                                              ]   0 / 659\r",
      "100% [..............................................................] 659 / 659convert_to_text: output_path=data/courses_txt/Геометрия и топология/Teichmull.txt\n",
      "Это не txt :( !!!\n",
      "Teichmull [None] ready: http://alexei.stepanov.spb.ru/students/Abstracts/Teichmull.txt\n",
      "TopComb скачан с googleDrive\n"
     ]
    },
    {
     "ename": "TooManyRedirects",
     "evalue": "Exceeded 30 redirects.",
     "output_type": "error",
     "traceback": [
      "\u001b[0;31m---------------------------------------------------------------------------\u001b[0m",
      "\u001b[0;31mTooManyRedirects\u001b[0m                          Traceback (most recent call last)",
      "Cell \u001b[0;32mIn[73], line 22\u001b[0m\n\u001b[1;32m     20\u001b[0m \u001b[38;5;28;01mif\u001b[39;00m is_google_drive(url):\n\u001b[1;32m     21\u001b[0m     \u001b[38;5;28mprint\u001b[39m(\u001b[38;5;124mf\u001b[39m\u001b[38;5;124m\"\u001b[39m\u001b[38;5;132;01m{\u001b[39;00mshort_name\u001b[38;5;132;01m}\u001b[39;00m\u001b[38;5;124m скачан с googleDrive\u001b[39m\u001b[38;5;124m\"\u001b[39m)\n\u001b[0;32m---> 22\u001b[0m     \u001b[43mgdown\u001b[49m\u001b[38;5;241;43m.\u001b[39;49m\u001b[43mdownload\u001b[49m\u001b[43m(\u001b[49m\u001b[43murl\u001b[49m\u001b[43m,\u001b[49m\u001b[43m \u001b[49m\u001b[43moutput_path\u001b[49m\u001b[43m,\u001b[49m\u001b[43m \u001b[49m\u001b[43mquiet\u001b[49m\u001b[38;5;241;43m=\u001b[39;49m\u001b[38;5;28;43;01mFalse\u001b[39;49;00m\u001b[43m,\u001b[49m\u001b[43m \u001b[49m\u001b[43mfuzzy\u001b[49m\u001b[38;5;241;43m=\u001b[39;49m\u001b[38;5;28;43;01mTrue\u001b[39;49;00m\u001b[43m,\u001b[49m\u001b[43m \u001b[49m\u001b[43muse_cookies\u001b[49m\u001b[38;5;241;43m=\u001b[39;49m\u001b[38;5;28;43;01mTrue\u001b[39;49;00m\u001b[43m)\u001b[49m\n\u001b[1;32m     24\u001b[0m \u001b[38;5;28;01melif\u001b[39;00m is_txt_link(url):\n\u001b[1;32m     25\u001b[0m     \u001b[38;5;28mprint\u001b[39m(\u001b[38;5;124mf\u001b[39m\u001b[38;5;124m\"\u001b[39m\u001b[38;5;132;01m{\u001b[39;00mshort_name\u001b[38;5;132;01m}\u001b[39;00m\u001b[38;5;124m скачан с txt\u001b[39m\u001b[38;5;124m\"\u001b[39m)\n",
      "File \u001b[0;32m~/.local/lib/python3.10/site-packages/gdown/download.py:161\u001b[0m, in \u001b[0;36mdownload\u001b[0;34m(url, output, quiet, proxy, speed, use_cookies, verify, id, fuzzy, resume, format)\u001b[0m\n\u001b[1;32m    159\u001b[0m \u001b[38;5;28;01mwhile\u001b[39;00m \u001b[38;5;28;01mTrue\u001b[39;00m:\n\u001b[1;32m    160\u001b[0m     \u001b[38;5;28;01mtry\u001b[39;00m:\n\u001b[0;32m--> 161\u001b[0m         res \u001b[38;5;241m=\u001b[39m \u001b[43msess\u001b[49m\u001b[38;5;241;43m.\u001b[39;49m\u001b[43mget\u001b[49m\u001b[43m(\u001b[49m\u001b[43murl\u001b[49m\u001b[43m,\u001b[49m\u001b[43m \u001b[49m\u001b[43mstream\u001b[49m\u001b[38;5;241;43m=\u001b[39;49m\u001b[38;5;28;43;01mTrue\u001b[39;49;00m\u001b[43m,\u001b[49m\u001b[43m \u001b[49m\u001b[43mverify\u001b[49m\u001b[38;5;241;43m=\u001b[39;49m\u001b[43mverify\u001b[49m\u001b[43m)\u001b[49m\n\u001b[1;32m    162\u001b[0m     \u001b[38;5;28;01mexcept\u001b[39;00m requests\u001b[38;5;241m.\u001b[39mexceptions\u001b[38;5;241m.\u001b[39mProxyError \u001b[38;5;28;01mas\u001b[39;00m e:\n\u001b[1;32m    163\u001b[0m         \u001b[38;5;28mprint\u001b[39m(\n\u001b[1;32m    164\u001b[0m             \u001b[38;5;124m\"\u001b[39m\u001b[38;5;124mAn error has occurred using proxy:\u001b[39m\u001b[38;5;124m\"\u001b[39m,\n\u001b[1;32m    165\u001b[0m             sess\u001b[38;5;241m.\u001b[39mproxies,\n\u001b[1;32m    166\u001b[0m             file\u001b[38;5;241m=\u001b[39msys\u001b[38;5;241m.\u001b[39mstderr,\n\u001b[1;32m    167\u001b[0m         )\n",
      "File \u001b[0;32m~/.local/lib/python3.10/site-packages/requests/sessions.py:600\u001b[0m, in \u001b[0;36mSession.get\u001b[0;34m(self, url, **kwargs)\u001b[0m\n\u001b[1;32m    592\u001b[0m \u001b[38;5;250m\u001b[39m\u001b[38;5;124mr\u001b[39m\u001b[38;5;124;03m\"\"\"Sends a GET request. Returns :class:`Response` object.\u001b[39;00m\n\u001b[1;32m    593\u001b[0m \n\u001b[1;32m    594\u001b[0m \u001b[38;5;124;03m:param url: URL for the new :class:`Request` object.\u001b[39;00m\n\u001b[1;32m    595\u001b[0m \u001b[38;5;124;03m:param \\*\\*kwargs: Optional arguments that ``request`` takes.\u001b[39;00m\n\u001b[1;32m    596\u001b[0m \u001b[38;5;124;03m:rtype: requests.Response\u001b[39;00m\n\u001b[1;32m    597\u001b[0m \u001b[38;5;124;03m\"\"\"\u001b[39;00m\n\u001b[1;32m    599\u001b[0m kwargs\u001b[38;5;241m.\u001b[39msetdefault(\u001b[38;5;124m\"\u001b[39m\u001b[38;5;124mallow_redirects\u001b[39m\u001b[38;5;124m\"\u001b[39m, \u001b[38;5;28;01mTrue\u001b[39;00m)\n\u001b[0;32m--> 600\u001b[0m \u001b[38;5;28;01mreturn\u001b[39;00m \u001b[38;5;28;43mself\u001b[39;49m\u001b[38;5;241;43m.\u001b[39;49m\u001b[43mrequest\u001b[49m\u001b[43m(\u001b[49m\u001b[38;5;124;43m\"\u001b[39;49m\u001b[38;5;124;43mGET\u001b[39;49m\u001b[38;5;124;43m\"\u001b[39;49m\u001b[43m,\u001b[49m\u001b[43m \u001b[49m\u001b[43murl\u001b[49m\u001b[43m,\u001b[49m\u001b[43m \u001b[49m\u001b[38;5;241;43m*\u001b[39;49m\u001b[38;5;241;43m*\u001b[39;49m\u001b[43mkwargs\u001b[49m\u001b[43m)\u001b[49m\n",
      "File \u001b[0;32m~/.local/lib/python3.10/site-packages/requests/sessions.py:587\u001b[0m, in \u001b[0;36mSession.request\u001b[0;34m(self, method, url, params, data, headers, cookies, files, auth, timeout, allow_redirects, proxies, hooks, stream, verify, cert, json)\u001b[0m\n\u001b[1;32m    582\u001b[0m send_kwargs \u001b[38;5;241m=\u001b[39m {\n\u001b[1;32m    583\u001b[0m     \u001b[38;5;124m\"\u001b[39m\u001b[38;5;124mtimeout\u001b[39m\u001b[38;5;124m\"\u001b[39m: timeout,\n\u001b[1;32m    584\u001b[0m     \u001b[38;5;124m\"\u001b[39m\u001b[38;5;124mallow_redirects\u001b[39m\u001b[38;5;124m\"\u001b[39m: allow_redirects,\n\u001b[1;32m    585\u001b[0m }\n\u001b[1;32m    586\u001b[0m send_kwargs\u001b[38;5;241m.\u001b[39mupdate(settings)\n\u001b[0;32m--> 587\u001b[0m resp \u001b[38;5;241m=\u001b[39m \u001b[38;5;28;43mself\u001b[39;49m\u001b[38;5;241;43m.\u001b[39;49m\u001b[43msend\u001b[49m\u001b[43m(\u001b[49m\u001b[43mprep\u001b[49m\u001b[43m,\u001b[49m\u001b[43m \u001b[49m\u001b[38;5;241;43m*\u001b[39;49m\u001b[38;5;241;43m*\u001b[39;49m\u001b[43msend_kwargs\u001b[49m\u001b[43m)\u001b[49m\n\u001b[1;32m    589\u001b[0m \u001b[38;5;28;01mreturn\u001b[39;00m resp\n",
      "File \u001b[0;32m~/.local/lib/python3.10/site-packages/requests/sessions.py:723\u001b[0m, in \u001b[0;36mSession.send\u001b[0;34m(self, request, **kwargs)\u001b[0m\n\u001b[1;32m    720\u001b[0m \u001b[38;5;28;01mif\u001b[39;00m allow_redirects:\n\u001b[1;32m    721\u001b[0m     \u001b[38;5;66;03m# Redirect resolving generator.\u001b[39;00m\n\u001b[1;32m    722\u001b[0m     gen \u001b[38;5;241m=\u001b[39m \u001b[38;5;28mself\u001b[39m\u001b[38;5;241m.\u001b[39mresolve_redirects(r, request, \u001b[38;5;241m*\u001b[39m\u001b[38;5;241m*\u001b[39mkwargs)\n\u001b[0;32m--> 723\u001b[0m     history \u001b[38;5;241m=\u001b[39m [resp \u001b[38;5;28;01mfor\u001b[39;00m resp \u001b[38;5;129;01min\u001b[39;00m gen]\n\u001b[1;32m    724\u001b[0m \u001b[38;5;28;01melse\u001b[39;00m:\n\u001b[1;32m    725\u001b[0m     history \u001b[38;5;241m=\u001b[39m []\n",
      "File \u001b[0;32m~/.local/lib/python3.10/site-packages/requests/sessions.py:723\u001b[0m, in \u001b[0;36m<listcomp>\u001b[0;34m(.0)\u001b[0m\n\u001b[1;32m    720\u001b[0m \u001b[38;5;28;01mif\u001b[39;00m allow_redirects:\n\u001b[1;32m    721\u001b[0m     \u001b[38;5;66;03m# Redirect resolving generator.\u001b[39;00m\n\u001b[1;32m    722\u001b[0m     gen \u001b[38;5;241m=\u001b[39m \u001b[38;5;28mself\u001b[39m\u001b[38;5;241m.\u001b[39mresolve_redirects(r, request, \u001b[38;5;241m*\u001b[39m\u001b[38;5;241m*\u001b[39mkwargs)\n\u001b[0;32m--> 723\u001b[0m     history \u001b[38;5;241m=\u001b[39m [resp \u001b[38;5;28;01mfor\u001b[39;00m resp \u001b[38;5;129;01min\u001b[39;00m gen]\n\u001b[1;32m    724\u001b[0m \u001b[38;5;28;01melse\u001b[39;00m:\n\u001b[1;32m    725\u001b[0m     history \u001b[38;5;241m=\u001b[39m []\n",
      "File \u001b[0;32m~/.local/lib/python3.10/site-packages/requests/sessions.py:191\u001b[0m, in \u001b[0;36mSessionRedirectMixin.resolve_redirects\u001b[0;34m(self, resp, req, stream, timeout, verify, cert, proxies, yield_requests, **adapter_kwargs)\u001b[0m\n\u001b[1;32m    188\u001b[0m     resp\u001b[38;5;241m.\u001b[39mraw\u001b[38;5;241m.\u001b[39mread(decode_content\u001b[38;5;241m=\u001b[39m\u001b[38;5;28;01mFalse\u001b[39;00m)\n\u001b[1;32m    190\u001b[0m \u001b[38;5;28;01mif\u001b[39;00m \u001b[38;5;28mlen\u001b[39m(resp\u001b[38;5;241m.\u001b[39mhistory) \u001b[38;5;241m>\u001b[39m\u001b[38;5;241m=\u001b[39m \u001b[38;5;28mself\u001b[39m\u001b[38;5;241m.\u001b[39mmax_redirects:\n\u001b[0;32m--> 191\u001b[0m     \u001b[38;5;28;01mraise\u001b[39;00m TooManyRedirects(\n\u001b[1;32m    192\u001b[0m         \u001b[38;5;124mf\u001b[39m\u001b[38;5;124m\"\u001b[39m\u001b[38;5;124mExceeded \u001b[39m\u001b[38;5;132;01m{\u001b[39;00m\u001b[38;5;28mself\u001b[39m\u001b[38;5;241m.\u001b[39mmax_redirects\u001b[38;5;132;01m}\u001b[39;00m\u001b[38;5;124m redirects.\u001b[39m\u001b[38;5;124m\"\u001b[39m, response\u001b[38;5;241m=\u001b[39mresp\n\u001b[1;32m    193\u001b[0m     )\n\u001b[1;32m    195\u001b[0m \u001b[38;5;66;03m# Release the connection back into the pool.\u001b[39;00m\n\u001b[1;32m    196\u001b[0m resp\u001b[38;5;241m.\u001b[39mclose()\n",
      "\u001b[0;31mTooManyRedirects\u001b[0m: Exceeded 30 redirects."
     ]
    }
   ],
   "source": [
    "for course_json in courses_json:\n",
    "    url = course_json['description']\n",
    "    short_name = course_json['short_name']\n",
    "    field_of_knowledge = course_json['field_of_knowledge']\n",
    "    if short_name in ban_list:\n",
    "        continue\n",
    "    \n",
    "    \n",
    "    if field_of_knowledge == \"Алгебра\" :\n",
    "        continue\n",
    "#     elif field_of_knowledge == \"Алгебра\"\n",
    "    path_dir_to_save = os.path.join(PATH_TO_COURSES_TXT, field_of_knowledge)\n",
    "    if not os.path.isdir(path_dir_to_save):\n",
    "        os.makedirs(path_dir_to_save)\n",
    "        \n",
    "    output_path = os.path.join(path_dir_to_save, f\"{short_name}.txt\")\n",
    "    if os.path.isfile(output_path):\n",
    "        continue\n",
    "    \n",
    "    if is_google_drive(url):\n",
    "        print(f\"{short_name} скачан с googleDrive\")\n",
    "        gdown.download(url, output_path, quiet=False, fuzzy=True, use_cookies=True)\n",
    "        \n",
    "    elif is_txt_link(url):\n",
    "        print(f\"{short_name} скачан с txt\")\n",
    "        file_name = wget.download(url, path_dir_to_save)\n",
    "        os.rename(file_name, output_path)\n",
    "    elif is_pdf_link(url):\n",
    "        print(f\"{short_name} скачан с pdf\")\n",
    "        file_name = wget.download(url, path_dir_to_save)\n",
    "        os.rename(file_name, output_path)\n",
    "    elif is_htm_link(url):\n",
    "        print(f\"{short_name} скачан с htm\")\n",
    "        file_name = wget.download(url, path_dir_to_save)\n",
    "        os.rename(file_name, output_path)\n",
    "    else: \n",
    "        print(f\"{short_name} не понял тип, пропустил( {url}\")\n",
    "        continue\n",
    "        \n",
    "        \n",
    "    file_type = convert_to_text(output_path)\n",
    "    print(f\"{short_name} [{file_type}] ready: {url}\")\n",
    "    \n",
    "    "
   ]
  },
  {
   "cell_type": "code",
   "execution_count": null,
   "id": "435fb808",
   "metadata": {},
   "outputs": [],
   "source": []
  },
  {
   "cell_type": "code",
   "execution_count": null,
   "id": "47c5bd9b",
   "metadata": {},
   "outputs": [],
   "source": []
  },
  {
   "cell_type": "code",
   "execution_count": null,
   "id": "773a3439",
   "metadata": {},
   "outputs": [],
   "source": []
  },
  {
   "cell_type": "code",
   "execution_count": null,
   "id": "ca0e2cff",
   "metadata": {},
   "outputs": [],
   "source": []
  },
  {
   "cell_type": "code",
   "execution_count": null,
   "id": "a5ed5557",
   "metadata": {},
   "outputs": [],
   "source": []
  },
  {
   "cell_type": "code",
   "execution_count": null,
   "id": "43abdfb4",
   "metadata": {},
   "outputs": [],
   "source": []
  }
 ],
 "metadata": {
  "kernelspec": {
   "display_name": "Python 3 (ipykernel)",
   "language": "python",
   "name": "python3"
  },
  "language_info": {
   "codemirror_mode": {
    "name": "ipython",
    "version": 3
   },
   "file_extension": ".py",
   "mimetype": "text/x-python",
   "name": "python",
   "nbconvert_exporter": "python",
   "pygments_lexer": "ipython3",
   "version": "3.10.6"
  }
 },
 "nbformat": 4,
 "nbformat_minor": 5
}
