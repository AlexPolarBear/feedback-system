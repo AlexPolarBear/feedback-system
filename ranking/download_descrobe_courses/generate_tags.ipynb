{
 "cells": [
  {
   "cell_type": "code",
   "execution_count": 3,
   "id": "d4e78823",
   "metadata": {},
   "outputs": [],
   "source": [
    "import os, sys\n",
    "import json\n",
    "import pprint\n",
    "\n"
   ]
  },
  {
   "cell_type": "code",
   "execution_count": 20,
   "id": "f5567bb3",
   "metadata": {},
   "outputs": [],
   "source": [
    "PATH_TO_COURSE_DATA = os.path.join(os.getcwd(), \"data\")\n",
    "\n",
    "PATH_TO_COURSES_TXT = os.path.join(PATH_TO_COURSE_DATA, \"courses_txt\")\n",
    "PATH_TO_COURSE_JSON = os.path.join(PATH_TO_COURSE_DATA, \"courses.json\")"
   ]
  },
  {
   "cell_type": "code",
   "execution_count": null,
   "id": "b964760c",
   "metadata": {},
   "outputs": [],
   "source": []
  },
  {
   "cell_type": "code",
   "execution_count": 24,
   "id": "76f0331c",
   "metadata": {},
   "outputs": [],
   "source": [
    "def get_txt_from_file(path : str):\n",
    "    print(path)\n",
    "    with open(path, \"r\", encoding=\"utf-8\") as file:\n",
    "        text = file.read()\n",
    "        return text\n",
    "    \n",
    "    return None"
   ]
  },
  {
   "cell_type": "code",
   "execution_count": 25,
   "id": "58b3a7b7",
   "metadata": {},
   "outputs": [
    {
     "name": "stdout",
     "output_type": "stream",
     "text": [
      "C:\\Users\\nalex\\Desktop\\different\\rate-system_univer_project\\expirements\\data\\courses_txt\\AlgGeom.txt\n"
     ]
    }
   ],
   "source": [
    "txt = get_txt_from_file(os.path.join(PATH_TO_COURSES_TXT, \"AlgGeom.txt\"))"
   ]
  },
  {
   "cell_type": "code",
   "execution_count": 26,
   "id": "3907d9ef",
   "metadata": {},
   "outputs": [
    {
     "data": {
      "text/plain": [
       "'045390 Алгебраическая геометрия\\n\\nАлгебраическая геометрия — раздел математики, изучающий алгебраические \\nмногообразия, т.е. кривые, поверхности и т.д., которые можно задать, по \\nкрайней мере локально, как множества общих нулей нескольких многочленов. \\nАлгебраическая геометрия тесно связана с коммутативной алгеброй — наукой про \\nкоммутативные кольца и модули над ними.\\nСпецкурс «Алгебраическая геометрия» будет посвящён знакомству с основами \\nкоммутативной алгебры и алгебраической геометрии. Изучаемые разделы \\nкоммутативной алгебры включают свойства локализаций и целой зависимости, \\nпримарное разложение, теорему Гильберта о нулях, теорию размерности \\nкоммутативных колец. «Геометрическая» часть курса будет посвящена простейшим \\nсвойствам алгебраических многообразий, регулярных и рациональных отображений, \\nдивизорам Вейля и Картье, локальным свойствам. Будет уделено внимание \\n«арифметическому случаю» — многообразиям над полями, не являющимися \\nалгебраическими замкнутыми.\\nДо 50% учебного времени будет отдано семинару — разбору определённых тем \\nстудентами и решению упражнений.\\n\\nВ результате усвоения курса обучающийся сможет применять алгебраическую\\nгеометрию при изучении смежных дисциплин физико-математического цикла,\\nв научных исследованиях и практических приложениях. Форма курса - лекции и семинары,\\nязыки - русский и английский.'"
      ]
     },
     "execution_count": 26,
     "metadata": {},
     "output_type": "execute_result"
    }
   ],
   "source": [
    "txt"
   ]
  },
  {
   "cell_type": "code",
   "execution_count": null,
   "id": "ca26c4be",
   "metadata": {},
   "outputs": [],
   "source": []
  },
  {
   "cell_type": "code",
   "execution_count": 27,
   "id": "547ba027",
   "metadata": {},
   "outputs": [
    {
     "ename": "ModuleNotFoundError",
     "evalue": "No module named 'transformers'",
     "output_type": "error",
     "traceback": [
      "\u001b[1;31m---------------------------------------------------------------------------\u001b[0m",
      "\u001b[1;31mModuleNotFoundError\u001b[0m                       Traceback (most recent call last)",
      "Input \u001b[1;32mIn [27]\u001b[0m, in \u001b[0;36m<cell line: 1>\u001b[1;34m()\u001b[0m\n\u001b[1;32m----> 1\u001b[0m \u001b[38;5;28;01mfrom\u001b[39;00m \u001b[38;5;21;01mtransformers\u001b[39;00m \u001b[38;5;28;01mimport\u001b[39;00m AutoTokenizer, AutoModelForSeq2SeqLM\n\u001b[0;32m      2\u001b[0m \u001b[38;5;28;01mimport\u001b[39;00m \u001b[38;5;21;01mnltk\u001b[39;00m\n\u001b[0;32m      3\u001b[0m nltk\u001b[38;5;241m.\u001b[39mdownload(\u001b[38;5;124m'\u001b[39m\u001b[38;5;124mpunkt\u001b[39m\u001b[38;5;124m'\u001b[39m)\n",
      "\u001b[1;31mModuleNotFoundError\u001b[0m: No module named 'transformers'"
     ]
    }
   ],
   "source": [
    "from transformers import AutoTokenizer, AutoModelForSeq2SeqLM\n",
    "import nltk\n",
    "nltk.download('punkt')\n",
    "\n",
    "tokenizer = AutoTokenizer.from_pretrained(\"fabiochiu/t5-base-tag-generation\")\n",
    "model = AutoModelForSeq2SeqLM.from_pretrained(\"fabiochiu/t5-base-tag-generation\")\n",
    "\n",
    "text = \"\"\"\n",
    "Python is a high-level, interpreted, general-purpose programming language. Its\n",
    "design philosophy emphasizes code readability with the use of significant\n",
    "indentation. Python is dynamically-typed and garbage-collected.\n",
    "\"\"\"\n",
    "\n",
    "inputs = tokenizer([text], max_length=512, truncation=True, return_tensors=\"pt\")\n",
    "output = model.generate(**inputs, num_beams=8, do_sample=True, min_length=10,\n",
    "                        max_length=64)\n",
    "decoded_output = tokenizer.batch_decode(output, skip_special_tokens=True)[0]\n",
    "tags = list(set(decoded_output.strip().split(\", \")))\n",
    "\n",
    "print(tags)\n",
    "# ['Programming', 'Code', 'Software Development', 'Programming Languages',\n",
    "#  'Software', 'Developer', 'Python', 'Software Engineering', 'Science',\n",
    "#  'Engineering', 'Technology', 'Computer Science', 'Coding', 'Digital', 'Tech',\n",
    "#  'Python Programming']\n"
   ]
  },
  {
   "cell_type": "code",
   "execution_count": null,
   "id": "9ca30b28",
   "metadata": {},
   "outputs": [],
   "source": []
  },
  {
   "cell_type": "code",
   "execution_count": null,
   "id": "2caa7d1a",
   "metadata": {},
   "outputs": [],
   "source": []
  },
  {
   "cell_type": "code",
   "execution_count": null,
   "id": "c123e6c8",
   "metadata": {},
   "outputs": [],
   "source": []
  }
 ],
 "metadata": {
  "kernelspec": {
   "display_name": "Python 3 (ipykernel)",
   "language": "python",
   "name": "python3"
  },
  "language_info": {
   "codemirror_mode": {
    "name": "ipython",
    "version": 3
   },
   "file_extension": ".py",
   "mimetype": "text/x-python",
   "name": "python",
   "nbconvert_exporter": "python",
   "pygments_lexer": "ipython3",
   "version": "3.9.12"
  }
 },
 "nbformat": 4,
 "nbformat_minor": 5
}
