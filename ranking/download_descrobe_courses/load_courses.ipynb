{
 "cells": [
  {
   "cell_type": "code",
   "execution_count": 69,
   "id": "fa5c08d0",
   "metadata": {},
   "outputs": [],
   "source": [
    "import os, sys\n",
    "import gdown\n",
    "import codecs\n",
    "import json\n",
    "import pprint\n",
    "from PyPDF2 import PdfReader\n",
    "import docx2txt\n",
    "import wget\n"
   ]
  },
  {
   "cell_type": "code",
   "execution_count": null,
   "id": "00a1cb75",
   "metadata": {},
   "outputs": [],
   "source": []
  },
  {
   "cell_type": "code",
   "execution_count": 11,
   "id": "d7db25cb",
   "metadata": {},
   "outputs": [],
   "source": [
    "# !pip install --upgrade google-api-python-client google-auth-httplib2 google-auth-oauthlib\n",
    "#!pip install gdown\n",
    "# !pip install PyPDF2\n",
    "# !pip install docx2txt\n"
   ]
  },
  {
   "cell_type": "code",
   "execution_count": 12,
   "id": "24c05010",
   "metadata": {},
   "outputs": [],
   "source": [
    "PATH_TO_COURSE_DATA = os.path.join(\"data\")\n",
    "\n",
    "PATH_TO_COURSES_TXT = os.path.join(PATH_TO_COURSE_DATA, \"courses_txt\")\n",
    "PATH_TO_COURSE_JSON = os.path.join(PATH_TO_COURSE_DATA, \"courses.json\")"
   ]
  },
  {
   "cell_type": "code",
   "execution_count": null,
   "id": "f076ed43",
   "metadata": {},
   "outputs": [],
   "source": []
  },
  {
   "cell_type": "code",
   "execution_count": null,
   "id": "e60d2439",
   "metadata": {},
   "outputs": [],
   "source": []
  },
  {
   "cell_type": "code",
   "execution_count": 56,
   "id": "b1ffae07",
   "metadata": {},
   "outputs": [],
   "source": [
    "def load_from_txt(path : str):\n",
    "    # http://alexei.stepanov.spb.ru/students/Abstracts/ClusterAlg.txt\n",
    "    text = None\n",
    "    f = codecs.open(path, 'r', 'cp1251')\n",
    "    is_read = False\n",
    "    \n",
    "    try:\n",
    "        text = f.read()   # now the contents have been transformed to a Unicode string\n",
    "        is_read = True\n",
    "        file_type = \"txt\"\n",
    "    except:\n",
    "        print(f\"Это не txt :( !!!\")\n",
    "    \n",
    "    return text, is_read\n",
    "\n",
    "\n",
    "def load_from_pdf(path : str):\n",
    "    text = None\n",
    "    is_read = False\n",
    "    \n",
    "    try:\n",
    "        reader = PdfReader(path)\n",
    "        text = reader.pages[0].extract_text()\n",
    "        is_read = True\n",
    "        file_type = \"pdf\"\n",
    "    except:\n",
    "        print(f\"Это не pdf !!!\")\n",
    "    \n",
    "    return text, is_read\n",
    "\n",
    "def load_from_docx(path : str):\n",
    "    # https://drive.google.com/uc?id=1OzogYQIQ8lf6HBYvM6wjhsGAcSN2TbQY\n",
    "    text = None\n",
    "    is_read = False\n",
    "    \n",
    "    try:\n",
    "        text = docx2txt.process(path)\n",
    "        is_read = True\n",
    "        file_type = \"docx\"\n",
    "    except:\n",
    "        print(f\"Это не pdf !!!\")\n",
    "    \n",
    "    return text, is_read\n",
    "\n",
    "\n"
   ]
  },
  {
   "cell_type": "code",
   "execution_count": 57,
   "id": "9c05b247",
   "metadata": {},
   "outputs": [],
   "source": [
    "def change_codec(output_path : str):\n",
    "    f = codecs.open(output_path, 'r', 'cp1251')\n",
    "    is_read = False\n",
    "    file_type = None\n",
    "    \n",
    "    print(f\"change_codec: output_path={output_path}\")\n",
    "    \n",
    "    text, ok = load_from_txt(output_path)\n",
    "    if not ok:\n",
    "        text, ok = load_from_pdf(output_path)\n",
    "    if not ok:\n",
    "        text, ok = load_from_docx(output_path)\n",
    "\n",
    "    \n",
    "    out = codecs.open(output_path, 'w', encoding='utf-8')\n",
    "    out.write(text)   # and now the contents h\n",
    "    \n",
    "    return file_type"
   ]
  },
  {
   "cell_type": "code",
   "execution_count": null,
   "id": "d753f431",
   "metadata": {},
   "outputs": [],
   "source": []
  },
  {
   "cell_type": "code",
   "execution_count": 58,
   "id": "503e7ea1",
   "metadata": {},
   "outputs": [],
   "source": [
    "# def download_course(link : str, course_short_name: str, output_path_to_dir=PATH_TO_COURSES_TXT):\n",
    "#     print(f\"download_course: {course_short_name}, url={link}\")\n",
    "#     output_path = os.path.join(output_path_to_dir, f\"{course_short_name}.txt\")\n",
    "    \n",
    "    \n",
    "#     gdown.download(link, output_path, quiet=False, fuzzy=True, use_cookies=True)\n",
    "    \n",
    "#     file_type = change_codec(output_path)\n",
    "#     print(f\"{course_short_name} [{file_type}] ready: {link}\")\n",
    "    \n",
    "    "
   ]
  },
  {
   "cell_type": "code",
   "execution_count": 66,
   "id": "6f1fabbd",
   "metadata": {},
   "outputs": [],
   "source": [
    "def is_google_drive(link: str):\n",
    "    ok = False\n",
    "    trigger = \"sharing\"\n",
    "    if link[-len(trigger):] == trigger:\n",
    "        ok = True\n",
    "    return ok\n",
    "    \n",
    "\n",
    "def is_txt_link(link : str):\n",
    "    ok = False\n",
    "    trigger = \"txt\"\n",
    "    if link[-len(trigger):] == trigger:\n",
    "        ok = True\n",
    "    return ok\n",
    "    \n",
    "def is_pdf_link(link : str):\n",
    "    ok = False\n",
    "    trigger = \"pdf\"\n",
    "    if link[-len(trigger):] == trigger:\n",
    "        ok = True\n",
    "    return ok\n",
    "\n",
    "def is_htm_link(link : str):\n",
    "    ok = False\n",
    "    trigger = \"htm\"\n",
    "    if link[-len(trigger):] == trigger:\n",
    "        ok = True\n",
    "    return ok\n",
    "    "
   ]
  },
  {
   "cell_type": "code",
   "execution_count": null,
   "id": "90dae0e7",
   "metadata": {},
   "outputs": [],
   "source": []
  },
  {
   "cell_type": "code",
   "execution_count": 67,
   "id": "3b5e59fe",
   "metadata": {},
   "outputs": [],
   "source": [
    "courses_json = json.load(open(PATH_TO_COURSE_JSON, \"r\", encoding=\"utf-8\"))"
   ]
  },
  {
   "cell_type": "code",
   "execution_count": 88,
   "id": "20e855df",
   "metadata": {},
   "outputs": [],
   "source": [
    "ban_list = [\"AdvComb\", \"NonClassL\", \"NonStandard\", \"Logic\",\n",
    "           \"MachLPr\", \"NLPcourse\", \"PracticalRL\", \"PracticalDL\", \"SelfDriving\", \"SpeechCourse\"]"
   ]
  },
  {
   "cell_type": "code",
   "execution_count": 90,
   "id": "f93bfc27",
   "metadata": {},
   "outputs": [
    {
     "name": "stdout",
     "output_type": "stream",
     "text": [
      "\r",
      "  0% [                                                                                  ]   0 / 659\r",
      "100% [..................................................................................] 659 / 659change_codec: output_path=data\\courses_txt\\Геометрия и топология\\Teichmull.txt\n",
      "Teichmull [None] ready: http://alexei.stepanov.spb.ru/students/Abstracts/Teichmull.txt\n",
      "TopComb скачан с googleDrive\n"
     ]
    },
    {
     "name": "stderr",
     "output_type": "stream",
     "text": [
      "Downloading...\n",
      "From: https://drive.google.com/uc?id=141DL9X3uvC7QVHCm6BMPbDIFmZ_Ew7AP\n",
      "To: C:\\Users\\nalex\\Desktop\\different\\rate-system_univer_project\\expirements\\data\\courses_txt\\Геометрия и топология\\TopComb.txt\n",
      "100%|██████████████████████████████████████████████████████████████████████████████████| 645/645 [00:00<00:00, 643kB/s]\n"
     ]
    },
    {
     "name": "stdout",
     "output_type": "stream",
     "text": [
      "change_codec: output_path=data\\courses_txt\\Геометрия и топология\\TopComb.txt\n",
      "TopComb [None] ready: https://drive.google.com/file/d/141DL9X3uvC7QVHCm6BMPbDIFmZ_Ew7AP/view?usp=sharing\n",
      "Geom скачан с googleDrive\n"
     ]
    },
    {
     "name": "stderr",
     "output_type": "stream",
     "text": [
      "Downloading...\n",
      "From: https://drive.google.com/uc?id=1Saz8b7DxaS9tymPkuqtg9f-CzuhSHsgS\n",
      "To: C:\\Users\\nalex\\Desktop\\different\\rate-system_univer_project\\expirements\\data\\courses_txt\\Геометрия и топология\\Geom.txt\n",
      "100%|██████████████████████████████████████████████████████████████████████████████████| 852/852 [00:00<00:00, 844kB/s]"
     ]
    },
    {
     "name": "stdout",
     "output_type": "stream",
     "text": [
      "change_codec: output_path=data\\courses_txt\\Геометрия и топология\\Geom.txt\n",
      "Geom [None] ready: https://drive.google.com/file/d/1Saz8b7DxaS9tymPkuqtg9f-CzuhSHsgS/view?usp=sharing\n",
      "\r",
      "  0% [                                                                                  ]   0 / 414\r",
      "100% [..................................................................................] 414 / 414change_codec: output_path=data\\courses_txt\\Геометрия и топология\\Homotopy.txt\n",
      "Это не txt :( !!!\n",
      "Это не pdf !!!\n",
      "Это не pdf !!!\n"
     ]
    },
    {
     "name": "stderr",
     "output_type": "stream",
     "text": [
      "\n"
     ]
    },
    {
     "ename": "TypeError",
     "evalue": "utf_8_encode() argument 1 must be str, not None",
     "output_type": "error",
     "traceback": [
      "\u001b[1;31m---------------------------------------------------------------------------\u001b[0m",
      "\u001b[1;31mTypeError\u001b[0m                                 Traceback (most recent call last)",
      "Input \u001b[1;32mIn [90]\u001b[0m, in \u001b[0;36m<cell line: 1>\u001b[1;34m()\u001b[0m\n\u001b[0;32m     33\u001b[0m     \u001b[38;5;28mprint\u001b[39m(\u001b[38;5;124mf\u001b[39m\u001b[38;5;124m\"\u001b[39m\u001b[38;5;132;01m{\u001b[39;00mshort_name\u001b[38;5;132;01m}\u001b[39;00m\u001b[38;5;124m не понял тип, пропустил( \u001b[39m\u001b[38;5;132;01m{\u001b[39;00murl\u001b[38;5;132;01m}\u001b[39;00m\u001b[38;5;124m\"\u001b[39m)\n\u001b[0;32m     34\u001b[0m     \u001b[38;5;28;01mcontinue\u001b[39;00m\n\u001b[1;32m---> 37\u001b[0m file_type \u001b[38;5;241m=\u001b[39m \u001b[43mchange_codec\u001b[49m\u001b[43m(\u001b[49m\u001b[43moutput_path\u001b[49m\u001b[43m)\u001b[49m\n\u001b[0;32m     38\u001b[0m \u001b[38;5;28mprint\u001b[39m(\u001b[38;5;124mf\u001b[39m\u001b[38;5;124m\"\u001b[39m\u001b[38;5;132;01m{\u001b[39;00mshort_name\u001b[38;5;132;01m}\u001b[39;00m\u001b[38;5;124m [\u001b[39m\u001b[38;5;132;01m{\u001b[39;00mfile_type\u001b[38;5;132;01m}\u001b[39;00m\u001b[38;5;124m] ready: \u001b[39m\u001b[38;5;132;01m{\u001b[39;00murl\u001b[38;5;132;01m}\u001b[39;00m\u001b[38;5;124m\"\u001b[39m)\n",
      "Input \u001b[1;32mIn [57]\u001b[0m, in \u001b[0;36mchange_codec\u001b[1;34m(output_path)\u001b[0m\n\u001b[0;32m     12\u001b[0m     text, ok \u001b[38;5;241m=\u001b[39m load_from_docx(output_path)\n\u001b[0;32m     15\u001b[0m out \u001b[38;5;241m=\u001b[39m codecs\u001b[38;5;241m.\u001b[39mopen(output_path, \u001b[38;5;124m'\u001b[39m\u001b[38;5;124mw\u001b[39m\u001b[38;5;124m'\u001b[39m, encoding\u001b[38;5;241m=\u001b[39m\u001b[38;5;124m'\u001b[39m\u001b[38;5;124mutf-8\u001b[39m\u001b[38;5;124m'\u001b[39m)\n\u001b[1;32m---> 16\u001b[0m \u001b[43mout\u001b[49m\u001b[38;5;241;43m.\u001b[39;49m\u001b[43mwrite\u001b[49m\u001b[43m(\u001b[49m\u001b[43mtext\u001b[49m\u001b[43m)\u001b[49m   \u001b[38;5;66;03m# and now the contents h\u001b[39;00m\n\u001b[0;32m     18\u001b[0m \u001b[38;5;28;01mreturn\u001b[39;00m file_type\n",
      "File \u001b[1;32mC:\\my_programs\\it\\anaconda\\lib\\codecs.py:721\u001b[0m, in \u001b[0;36mStreamReaderWriter.write\u001b[1;34m(self, data)\u001b[0m\n\u001b[0;32m    719\u001b[0m \u001b[38;5;28;01mdef\u001b[39;00m \u001b[38;5;21mwrite\u001b[39m(\u001b[38;5;28mself\u001b[39m, data):\n\u001b[1;32m--> 721\u001b[0m     \u001b[38;5;28;01mreturn\u001b[39;00m \u001b[38;5;28;43mself\u001b[39;49m\u001b[38;5;241;43m.\u001b[39;49m\u001b[43mwriter\u001b[49m\u001b[38;5;241;43m.\u001b[39;49m\u001b[43mwrite\u001b[49m\u001b[43m(\u001b[49m\u001b[43mdata\u001b[49m\u001b[43m)\u001b[49m\n",
      "File \u001b[1;32mC:\\my_programs\\it\\anaconda\\lib\\codecs.py:377\u001b[0m, in \u001b[0;36mStreamWriter.write\u001b[1;34m(self, object)\u001b[0m\n\u001b[0;32m    373\u001b[0m \u001b[38;5;28;01mdef\u001b[39;00m \u001b[38;5;21mwrite\u001b[39m(\u001b[38;5;28mself\u001b[39m, \u001b[38;5;28mobject\u001b[39m):\n\u001b[0;32m    375\u001b[0m     \u001b[38;5;124;03m\"\"\" Writes the object's contents encoded to self.stream.\u001b[39;00m\n\u001b[0;32m    376\u001b[0m \u001b[38;5;124;03m    \"\"\"\u001b[39;00m\n\u001b[1;32m--> 377\u001b[0m     data, consumed \u001b[38;5;241m=\u001b[39m \u001b[38;5;28;43mself\u001b[39;49m\u001b[38;5;241;43m.\u001b[39;49m\u001b[43mencode\u001b[49m\u001b[43m(\u001b[49m\u001b[38;5;28;43mobject\u001b[39;49m\u001b[43m,\u001b[49m\u001b[43m \u001b[49m\u001b[38;5;28;43mself\u001b[39;49m\u001b[38;5;241;43m.\u001b[39;49m\u001b[43merrors\u001b[49m\u001b[43m)\u001b[49m\n\u001b[0;32m    378\u001b[0m     \u001b[38;5;28mself\u001b[39m\u001b[38;5;241m.\u001b[39mstream\u001b[38;5;241m.\u001b[39mwrite(data)\n",
      "\u001b[1;31mTypeError\u001b[0m: utf_8_encode() argument 1 must be str, not None"
     ]
    }
   ],
   "source": [
    "for course_json in courses_json:\n",
    "    url = course_json['description']\n",
    "    short_name = course_json['short_name']\n",
    "    field_of_knowledge = course_json['field_of_knowledge']\n",
    "    if short_name in ban_list:\n",
    "        continue\n",
    "    \n",
    "    \n",
    "    if field_of_knowledge == \"Алгебра\" :\n",
    "        continue\n",
    "#     elif field_of_knowledge == \"Алгебра\"\n",
    "    path_dir_to_save = os.path.join(PATH_TO_COURSES_TXT, field_of_knowledge)\n",
    "    if not os.path.isdir(path_dir_to_save):\n",
    "        os.makedirs(path_dir_to_save)\n",
    "        \n",
    "    output_path = os.path.join(path_dir_to_save, f\"{short_name}.txt\")\n",
    "    if os.path.isdir(output_path):\n",
    "        continue\n",
    "    \n",
    "    if is_google_drive(url):\n",
    "        print(f\"{short_name} скачан с googleDrive\")\n",
    "        gdown.download(url, output_path, quiet=False, fuzzy=True, use_cookies=True)\n",
    "#         download_course(url, course_json['short_name'],\n",
    "#                     output_path_to_dir=path_dir_to_save)\n",
    "    elif is_txt_link(url):\n",
    "        wget.download(url, path_dir_to_save)\n",
    "        \n",
    "    elif is_pdf_link(url):\n",
    "        wget.download(url, path_dir_to_save)\n",
    "    elif is_htm_link(url):\n",
    "        wget.download(url, path_dir_to_save)\n",
    "    else: \n",
    "        print(f\"{short_name} не понял тип, пропустил( {url}\")\n",
    "        continue\n",
    "        \n",
    "        \n",
    "    file_type = change_codec(output_path)\n",
    "    print(f\"{short_name} [{file_type}] ready: {url}\")\n",
    "    \n",
    "    "
   ]
  },
  {
   "cell_type": "code",
   "execution_count": null,
   "id": "435fb808",
   "metadata": {},
   "outputs": [],
   "source": []
  },
  {
   "cell_type": "code",
   "execution_count": null,
   "id": "47c5bd9b",
   "metadata": {},
   "outputs": [],
   "source": []
  },
  {
   "cell_type": "code",
   "execution_count": null,
   "id": "773a3439",
   "metadata": {},
   "outputs": [],
   "source": []
  },
  {
   "cell_type": "code",
   "execution_count": null,
   "id": "ca0e2cff",
   "metadata": {},
   "outputs": [],
   "source": []
  },
  {
   "cell_type": "code",
   "execution_count": null,
   "id": "a5ed5557",
   "metadata": {},
   "outputs": [],
   "source": []
  },
  {
   "cell_type": "code",
   "execution_count": null,
   "id": "43abdfb4",
   "metadata": {},
   "outputs": [],
   "source": []
  }
 ],
 "metadata": {
  "kernelspec": {
   "display_name": "Python 3 (ipykernel)",
   "language": "python",
   "name": "python3"
  },
  "language_info": {
   "codemirror_mode": {
    "name": "ipython",
    "version": 3
   },
   "file_extension": ".py",
   "mimetype": "text/x-python",
   "name": "python",
   "nbconvert_exporter": "python",
   "pygments_lexer": "ipython3",
   "version": "3.9.12"
  }
 },
 "nbformat": 4,
 "nbformat_minor": 5
}
