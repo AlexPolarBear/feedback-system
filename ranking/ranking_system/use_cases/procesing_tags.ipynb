{
 "cells": [
  {
   "cell_type": "code",
   "execution_count": 1,
   "metadata": {},
   "outputs": [
    {
     "name": "stdout",
     "output_type": "stream",
     "text": [
      "c:\\Users\\nalex\\Desktop\\different\\feedback-system\\ranking\\ranking_system\n"
     ]
    }
   ],
   "source": [
    "import os, sys\n",
    "from pprint import pprint\n",
    "from pprint import pprint\n",
    "print(os.path.dirname(os.getcwd()))\n",
    "sys.path.append(os.path.dirname(os.getcwd()))\n",
    "\n",
    "\n",
    "# from io_rankingSystem import IO_RankingSystem \n",
    "from rankingSystem import RankingSystem\n",
    "from tagsHandler import TagsHandler"
   ]
  },
  {
   "cell_type": "code",
   "execution_count": 2,
   "metadata": {},
   "outputs": [],
   "source": [
    "import matplotlib.pyplot as plt\n",
    "import numpy as np\n"
   ]
  },
  {
   "cell_type": "code",
   "execution_count": 3,
   "metadata": {},
   "outputs": [],
   "source": [
    "rk = RankingSystem()\n",
    "th = TagsHandler()"
   ]
  },
  {
   "cell_type": "code",
   "execution_count": 4,
   "metadata": {},
   "outputs": [],
   "source": [
    "# pprint(rk.courses)"
   ]
  },
  {
   "cell_type": "code",
   "execution_count": 5,
   "metadata": {},
   "outputs": [],
   "source": [
    "cnt, tags_cnt = th._info_tag_cnt(rk.courses)"
   ]
  },
  {
   "cell_type": "code",
   "execution_count": 6,
   "metadata": {},
   "outputs": [
    {
     "name": "stdout",
     "output_type": "stream",
     "text": [
      "6762\n"
     ]
    }
   ],
   "source": [
    "print(cnt)\n",
    "cnts = np.array([cnt for _, cnt in tags_cnt.items()])\n",
    "tag_cnt_list = tags_cnt.items()\n",
    "max_cnt = 10\n",
    "bins = np.linspace(1, max_cnt, max_cnt)\n",
    "# plt.hist(cnts, bins)\n",
    "pass\n"
   ]
  },
  {
   "cell_type": "code",
   "execution_count": 7,
   "metadata": {},
   "outputs": [],
   "source": [
    "tag_cnt_list = sorted(tag_cnt_list, key=lambda x : x[1], reverse=True)\n",
    "# pprint(tag_cnt_list)"
   ]
  },
  {
   "cell_type": "code",
   "execution_count": null,
   "metadata": {},
   "outputs": [],
   "source": []
  },
  {
   "cell_type": "code",
   "execution_count": 8,
   "metadata": {},
   "outputs": [
    {
     "name": "stdout",
     "output_type": "stream",
     "text": [
      "processing_tags: _to_lower_all: 6762 -> 6762\n",
      "processing_tags: _ban: 6762 -> 6762\n",
      "processing_tags: _lemmating: 6762 -> 6762\n",
      "processing_tags: _small: 6762 -> 6760\n"
     ]
    }
   ],
   "source": [
    "courses_new =  th.processing_tags(rk.courses)"
   ]
  },
  {
   "cell_type": "code",
   "execution_count": 9,
   "metadata": {},
   "outputs": [],
   "source": [
    "# %pip install pyjarowinkler"
   ]
  },
  {
   "cell_type": "code",
   "execution_count": 10,
   "metadata": {},
   "outputs": [],
   "source": [
    "cnt, tag_cnt = th._info_tag_cnt(courses_new)\n",
    "# tag_cnt\n",
    "\n",
    "# tag_cnt['Группа']"
   ]
  },
  {
   "cell_type": "code",
   "execution_count": 11,
   "metadata": {},
   "outputs": [],
   "source": [
    "# tag_cnt['группы']"
   ]
  },
  {
   "cell_type": "code",
   "execution_count": 12,
   "metadata": {},
   "outputs": [
    {
     "name": "stdout",
     "output_type": "stream",
     "text": [
      "['рекордные моменты',\n",
      " 'рекомендательные системы',\n",
      " 'реконструктивное моделирование',\n",
      " 'регулирование параметров системы',\n",
      " 'фрейм',\n",
      " 'время',\n",
      " 'развитие коммуникативной компетенции',\n",
      " 'фредгольмовы индексы',\n",
      " 'фредгольмовы операторы',\n",
      " 'теорема',\n",
      " 'геномик',\n",
      " 'лагранжевы подмногообразия',\n",
      " 'приближенное моделирование',\n",
      " 'управление своими эмоциями',\n",
      " 'деформация']\n",
      "['массив',\n",
      " 'макрос',\n",
      " 'матрица',\n",
      " 'магистр',\n",
      " 'матушка',\n",
      " 'матфизик',\n",
      " 'математик',\n",
      " 'мартингал',\n",
      " 'магистрант',\n",
      " 'малльявный']\n"
     ]
    }
   ],
   "source": [
    "rk.courses = courses_new\n",
    "rk.update_tags()\n",
    "\n",
    "list_tags_json = rk.get_top_suitable_tags_by_text(\"реом\", max_count=15)\n",
    "pprint(list_tags_json)\n",
    "list_tags_json = rk.get_top_suitable_tags_by_text(\"ма\", max_count=10)\n",
    "pprint(list_tags_json)\n",
    " "
   ]
  },
  {
   "cell_type": "code",
   "execution_count": 13,
   "metadata": {},
   "outputs": [],
   "source": [
    "# rk.courses"
   ]
  },
  {
   "cell_type": "code",
   "execution_count": 14,
   "metadata": {},
   "outputs": [
    {
     "name": "stdout",
     "output_type": "stream",
     "text": [
      "'Основы математической статистики'\n",
      "'Основы математической статистики'\n"
     ]
    }
   ],
   "source": [
    "list_courses_json =  rk.get_top_suitable_courses_by_text(\"Основы Математическая статистика\", max_count=3)\n",
    "pprint(list_courses_json[0][\"full_name\"])\n",
    "list_courses_json =  rk.get_top_suitable_courses_by_text(\"Statist0\", max_count=3)\n",
    "pprint(list_courses_json[0][\"full_name\"])"
   ]
  },
  {
   "cell_type": "code",
   "execution_count": 15,
   "metadata": {},
   "outputs": [],
   "source": [
    "from io_rankingSystem import IO_RankingSystem\n",
    "io_rk = IO_RankingSystem()"
   ]
  },
  {
   "cell_type": "code",
   "execution_count": 16,
   "metadata": {},
   "outputs": [],
   "source": [
    "io_rk._save_courses_tags(courses_new)"
   ]
  },
  {
   "cell_type": "code",
   "execution_count": 17,
   "metadata": {},
   "outputs": [],
   "source": [
    "courses =  io_rk.get_all_courses(is_prepared=True)"
   ]
  },
  {
   "cell_type": "code",
   "execution_count": 19,
   "metadata": {},
   "outputs": [],
   "source": [
    "# courses"
   ]
  }
 ],
 "metadata": {
  "kernelspec": {
   "display_name": "Python 3",
   "language": "python",
   "name": "python3"
  },
  "language_info": {
   "codemirror_mode": {
    "name": "ipython",
    "version": 3
   },
   "file_extension": ".py",
   "mimetype": "text/x-python",
   "name": "python",
   "nbconvert_exporter": "python",
   "pygments_lexer": "ipython3",
   "version": "3.10.6"
  },
  "orig_nbformat": 4
 },
 "nbformat": 4,
 "nbformat_minor": 2
}
