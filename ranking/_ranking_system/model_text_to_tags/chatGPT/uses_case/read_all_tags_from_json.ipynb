{
 "cells": [
  {
   "cell_type": "code",
   "execution_count": 1,
   "metadata": {},
   "outputs": [
    {
     "name": "stdout",
     "output_type": "stream",
     "text": [
      "c:\\Users\\nalex\\Desktop\\different\\feedback-system\\ranking\\ranking_system\\model_text_to_tags\\chatGPT\n",
      "c:\\Users\\nalex\\Desktop\\different\\feedback-system\\ranking\\ranking_system\n"
     ]
    }
   ],
   "source": [
    "import os \n",
    "import sys\n",
    "\n",
    "# add moduls ranking_system, chatGPT\n",
    "print(os.path.dirname(os.getcwd()))\n",
    "sys.path.append(os.path.dirname(os.getcwd()))\n",
    "\n",
    "print(os.path.dirname(os.path.dirname(os.path.dirname(os.getcwd()))))\n",
    "sys.path.append(os.path.dirname(os.path.dirname(os.path.dirname(os.getcwd()))))"
   ]
  },
  {
   "cell_type": "code",
   "execution_count": 2,
   "metadata": {},
   "outputs": [],
   "source": [
    "import pprint"
   ]
  },
  {
   "cell_type": "code",
   "execution_count": 3,
   "metadata": {},
   "outputs": [],
   "source": [
    "from chatGPT import ChatGPT\n"
   ]
  },
  {
   "cell_type": "code",
   "execution_count": 4,
   "metadata": {},
   "outputs": [],
   "source": [
    "chat_gpt = ChatGPT()"
   ]
  },
  {
   "cell_type": "code",
   "execution_count": 5,
   "metadata": {},
   "outputs": [],
   "source": [
    "courses = chat_gpt.read_all_courses_json_to_courses()"
   ]
  },
  {
   "cell_type": "code",
   "execution_count": 6,
   "metadata": {},
   "outputs": [
    {
     "name": "stdout",
     "output_type": "stream",
     "text": [
      "{}\n"
     ]
    }
   ],
   "source": [
    "pprint.pprint(courses)"
   ]
  },
  {
   "cell_type": "code",
   "execution_count": 7,
   "metadata": {},
   "outputs": [
    {
     "ename": "AttributeError",
     "evalue": "type object 'ChatGPT' has no attribute '_save_tags_json_to_file'",
     "output_type": "error",
     "traceback": [
      "\u001b[1;31m---------------------------------------------------------------------------\u001b[0m",
      "\u001b[1;31mAttributeError\u001b[0m                            Traceback (most recent call last)",
      "\u001b[1;32mc:\\Users\\nalex\\Desktop\\different\\feedback-system\\ranking\\ranking_system\\model_text_to_tags\\chatGPT\\uses_case\\read_all_tags_from_json.ipynb Ячейка 7\u001b[0m in \u001b[0;36m1\n\u001b[1;32m----> <a href='vscode-notebook-cell:/c%3A/Users/nalex/Desktop/different/feedback-system/ranking/ranking_system/model_text_to_tags/chatGPT/uses_case/read_all_tags_from_json.ipynb#W6sZmlsZQ%3D%3D?line=0'>1</a>\u001b[0m chat_gpt\u001b[39m.\u001b[39;49mload_union_save_all_tags(verbose\u001b[39m=\u001b[39;49m\u001b[39mTrue\u001b[39;49;00m)\n",
      "File \u001b[1;32mc:\\Users\\nalex\\Desktop\\different\\feedback-system\\ranking\\ranking_system\\model_text_to_tags\\chatGPT\\chatGPT.py:327\u001b[0m, in \u001b[0;36mChatGPT.load_union_save_all_tags\u001b[1;34m(verbose)\u001b[0m\n\u001b[0;32m    324\u001b[0m tags_dict \u001b[39m=\u001b[39m ChatGPT\u001b[39m.\u001b[39m_load_and_union_tags_by_courses()\n\u001b[0;32m    325\u001b[0m \u001b[39m# pprint.pprint(f\"ChatGPT.load_union_save_all_tags: tags_dict={tags_dict}\")\u001b[39;00m\n\u001b[1;32m--> 327\u001b[0m ChatGPT\u001b[39m.\u001b[39;49m_save_all_tags_json(tags_dict\u001b[39m=\u001b[39;49mtags_dict, verbose\u001b[39m=\u001b[39;49mverbose)\n",
      "File \u001b[1;32mc:\\Users\\nalex\\Desktop\\different\\feedback-system\\ranking\\ranking_system\\model_text_to_tags\\chatGPT\\chatGPT.py:129\u001b[0m, in \u001b[0;36mChatGPT._save_all_tags_json\u001b[1;34m(tags_dict, verbose)\u001b[0m\n\u001b[0;32m    127\u001b[0m \u001b[39m@staticmethod\u001b[39m\n\u001b[0;32m    128\u001b[0m \u001b[39mdef\u001b[39;00m \u001b[39m_save_all_tags_json\u001b[39m(tags_dict: Dict[TagTitle, Tag], verbose : \u001b[39mbool\u001b[39m \u001b[39m=\u001b[39m \u001b[39mFalse\u001b[39;00m):\n\u001b[1;32m--> 129\u001b[0m     ChatGPT\u001b[39m.\u001b[39;49m_save_tags_json_to_file(short_name\u001b[39m=\u001b[39m\u001b[39m\"\u001b[39m\u001b[39mall_tags\u001b[39m\u001b[39m\"\u001b[39m, tags_dict\u001b[39m=\u001b[39mtags_dict,\n\u001b[0;32m    130\u001b[0m                                     path_to_tags_json\u001b[39m=\u001b[39mChatGPT\u001b[39m.\u001b[39mPATH_TO_ALL_TAGS_JSON,\n\u001b[0;32m    131\u001b[0m                                     verbose\u001b[39m=\u001b[39mverbose)\n",
      "\u001b[1;31mAttributeError\u001b[0m: type object 'ChatGPT' has no attribute '_save_tags_json_to_file'"
     ]
    }
   ],
   "source": [
    "chat_gpt.load_union_save_all_tags(verbose=True)"
   ]
  },
  {
   "cell_type": "code",
   "execution_count": 8,
   "metadata": {},
   "outputs": [],
   "source": [
    "all_tags = chat_gpt.load_all_tags()"
   ]
  },
  {
   "cell_type": "code",
   "execution_count": 9,
   "metadata": {},
   "outputs": [
    {
     "name": "stdout",
     "output_type": "stream",
     "text": [
      "{'алгебраическая геометрия': {'id': -1,\n",
      "                              'title': 'алгебраическая геометрия',\n",
      "                              'type': -1},\n",
      " 'алгебраическая теория чисел': {'id': -1,\n",
      "                                 'title': 'алгебраическая теория чисел',\n",
      "                                 'type': -1},\n",
      " 'атласы': {'id': -1, 'title': 'атласы', 'type': -1},\n",
      " 'вариационное исчисление': {'id': -1,\n",
      "                             'title': 'вариационное исчисление',\n",
      "                             'type': -1},\n",
      " 'глубокое обучение': {'id': -1, 'title': 'глубокое обучение', 'type': -1},\n",
      " 'дедекиндовы кольца': {'id': -1, 'title': 'дедекиндовы кольца', 'type': -1},\n",
      " 'кольца целых алгебраических чисел': {'id': -1,\n",
      "                                       'title': 'кольца целых алгебраических '\n",
      "                                                'чисел',\n",
      "                                       'type': -1},\n",
      " 'коммутативные колца': {'id': -1, 'title': 'коммутативные колца', 'type': -1},\n",
      " 'компьютерное зрение': {'id': -1, 'title': 'компьютерное зрение', 'type': -1},\n",
      " 'краевые задачи': {'id': -1, 'title': 'краевые задачи', 'type': -1},\n",
      " 'лемма Нетер о нормализации': {'id': -1,\n",
      "                                'title': 'лемма Нетер о нормализации',\n",
      "                                'type': -1},\n",
      " 'локализация': {'id': -1, 'title': 'локализация', 'type': -1},\n",
      " 'локальная алгебраическая геометрия': {'id': -1,\n",
      "                                        'title': 'локальная алгебраическая '\n",
      "                                                 'геометрия',\n",
      "                                        'type': -1},\n",
      " 'машинное обучение': {'id': -1, 'title': 'машинное обучение', 'type': -1},\n",
      " 'метод Нехари': {'id': -1, 'title': 'метод Нехари', 'type': -1},\n",
      " 'метод движущихся плоскостей': {'id': -1,\n",
      "                                 'title': 'метод движущихся плоскостей',\n",
      "                                 'type': -1},\n",
      " 'нейронные сети': {'id': -1, 'title': 'нейронные сети', 'type': -1},\n",
      " 'неравенство Пойа-Сеге': {'id': -1,\n",
      "                           'title': 'неравенство Пойа-Сеге',\n",
      "                           'type': -1},\n",
      " 'неравенство Рисса': {'id': -1, 'title': 'неравенство Рисса', 'type': -1},\n",
      " 'нормализация': {'id': -1, 'title': 'нормализация', 'type': -1},\n",
      " 'обработка естественного языка': {'id': -1,\n",
      "                                   'title': 'обработка естественного языка',\n",
      "                                   'type': -1},\n",
      " 'пополнение': {'id': -1, 'title': 'пополнение', 'type': -1},\n",
      " 'принцип Лионса': {'id': -1, 'title': 'принцип Лионса', 'type': -1},\n",
      " 'пространства Соболева': {'id': -1,\n",
      "                           'title': 'пространства Соболева',\n",
      "                           'type': -1},\n",
      " 'распознавание речи': {'id': -1, 'title': 'распознавание речи', 'type': -1},\n",
      " 'структурная теорема Коэна': {'id': -1,\n",
      "                               'title': 'структурная теорема Коэна',\n",
      "                               'type': -1},\n",
      " 'существование минимума': {'id': -1,\n",
      "                            'title': 'существование минимума',\n",
      "                            'type': -1},\n",
      " 'теорема Гильберта о нулях': {'id': -1,\n",
      "                               'title': 'теорема Гильберта о нулях',\n",
      "                               'type': -1},\n",
      " 'теория размерности Крулля': {'id': -1,\n",
      "                               'title': 'теория размерности Крулля',\n",
      "                               'type': -1},\n",
      " 'тождество Похожаева': {'id': -1, 'title': 'тождество Похожаева', 'type': -1},\n",
      " 'топология Зариского': {'id': -1, 'title': 'топология Зариского', 'type': -1},\n",
      " 'уравнения в частных производных': {'id': -1,\n",
      "                                     'title': 'уравнения в частных производных',\n",
      "                                     'type': -1}}\n"
     ]
    }
   ],
   "source": [
    "pprint.pprint(all_tags)"
   ]
  },
  {
   "cell_type": "code",
   "execution_count": null,
   "metadata": {},
   "outputs": [],
   "source": []
  }
 ],
 "metadata": {
  "kernelspec": {
   "display_name": "Python 3",
   "language": "python",
   "name": "python3"
  },
  "language_info": {
   "codemirror_mode": {
    "name": "ipython",
    "version": 3
   },
   "file_extension": ".py",
   "mimetype": "text/x-python",
   "name": "python",
   "nbconvert_exporter": "python",
   "pygments_lexer": "ipython3",
   "version": "3.10.6"
  },
  "orig_nbformat": 4
 },
 "nbformat": 4,
 "nbformat_minor": 2
}
