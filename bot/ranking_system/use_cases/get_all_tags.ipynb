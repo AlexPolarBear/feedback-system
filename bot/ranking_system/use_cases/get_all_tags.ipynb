{
 "cells": [
  {
   "cell_type": "code",
   "execution_count": 6,
   "metadata": {},
   "outputs": [
    {
     "name": "stdout",
     "output_type": "stream",
     "text": [
      "c:\\Users\\nalex\\Desktop\\different\\feedback-system\\ranking\\ranking_system\n",
      "c:\\Users\\nalex\\Desktop\\different\\feedback-system\\ranking\\ranking_system\\model_text_to_tags\\chatGPT\n"
     ]
    }
   ],
   "source": [
    "import os, sys\n",
    "print(os.path.dirname(os.getcwd()))\n",
    "sys.path.append(os.path.dirname(os.getcwd()))\n",
    "print(os.path.join(os.path.dirname(os.getcwd()), \"model_text_to_tags\", \"chatGPT\"))\n",
    "sys.path.append(os.path.join(os.path.dirname(os.getcwd()), \"model_text_to_tags\", \"chatGPT\"))\n",
    "\n",
    "from rankingSystem import RankingSystem"
   ]
  },
  {
   "cell_type": "code",
   "execution_count": 9,
   "metadata": {},
   "outputs": [],
   "source": [
    "import pprint"
   ]
  },
  {
   "cell_type": "code",
   "execution_count": 7,
   "metadata": {},
   "outputs": [],
   "source": [
    "rk = RankingSystem()"
   ]
  },
  {
   "cell_type": "code",
   "execution_count": 8,
   "metadata": {},
   "outputs": [],
   "source": [
    "tags_dict = rk._get_all_tags()"
   ]
  },
  {
   "cell_type": "code",
   "execution_count": 10,
   "metadata": {},
   "outputs": [
    {
     "name": "stdout",
     "output_type": "stream",
     "text": [
      "{'алгебраическая геометрия': Tag(id=-1,\n",
      "                                 title='алгебраическая геометрия',\n",
      "                                 type=-1),\n",
      " 'алгебраическая теория чисел': Tag(id=-1,\n",
      "                                    title='алгебраическая теория чисел',\n",
      "                                    type=-1),\n",
      " 'атласы': Tag(id=-1, title='атласы', type=-1),\n",
      " 'вариационное исчисление': Tag(id=-1,\n",
      "                                title='вариационное исчисление',\n",
      "                                type=-1),\n",
      " 'глубокое обучение': Tag(id=-1, title='глубокое обучение', type=-1),\n",
      " 'дедекиндовы кольца': Tag(id=-1, title='дедекиндовы кольца', type=-1),\n",
      " 'кольца целых алгебраических чисел': Tag(id=-1,\n",
      "                                          title='кольца целых алгебраических '\n",
      "                                                'чисел',\n",
      "                                          type=-1),\n",
      " 'коммутативные колца': Tag(id=-1, title='коммутативные колца', type=-1),\n",
      " 'компьютерное зрение': Tag(id=-1, title='компьютерное зрение', type=-1),\n",
      " 'краевые задачи': Tag(id=-1, title='краевые задачи', type=-1),\n",
      " 'лемма Нетер о нормализации': Tag(id=-1,\n",
      "                                   title='лемма Нетер о нормализации',\n",
      "                                   type=-1),\n",
      " 'локализация': Tag(id=-1, title='локализация', type=-1),\n",
      " 'локальная алгебраическая геометрия': Tag(id=-1,\n",
      "                                           title='локальная алгебраическая '\n",
      "                                                 'геометрия',\n",
      "                                           type=-1),\n",
      " 'машинное обучение': Tag(id=-1, title='машинное обучение', type=-1),\n",
      " 'метод Нехари': Tag(id=-1, title='метод Нехари', type=-1),\n",
      " 'метод движущихся плоскостей': Tag(id=-1,\n",
      "                                    title='метод движущихся плоскостей',\n",
      "                                    type=-1),\n",
      " 'нейронные сети': Tag(id=-1, title='нейронные сети', type=-1),\n",
      " 'неравенство Пойа-Сеге': Tag(id=-1, title='неравенство Пойа-Сеге', type=-1),\n",
      " 'неравенство Рисса': Tag(id=-1, title='неравенство Рисса', type=-1),\n",
      " 'нормализация': Tag(id=-1, title='нормализация', type=-1),\n",
      " 'обработка естественного языка': Tag(id=-1,\n",
      "                                      title='обработка естественного языка',\n",
      "                                      type=-1),\n",
      " 'пополнение': Tag(id=-1, title='пополнение', type=-1),\n",
      " 'принцип Лионса': Tag(id=-1, title='принцип Лионса', type=-1),\n",
      " 'пространства Соболева': Tag(id=-1, title='пространства Соболева', type=-1),\n",
      " 'распознавание речи': Tag(id=-1, title='распознавание речи', type=-1),\n",
      " 'структурная теорема Коэна': Tag(id=-1,\n",
      "                                  title='структурная теорема Коэна',\n",
      "                                  type=-1),\n",
      " 'существование минимума': Tag(id=-1, title='существование минимума', type=-1),\n",
      " 'теорема Гильберта о нулях': Tag(id=-1,\n",
      "                                  title='теорема Гильберта о нулях',\n",
      "                                  type=-1),\n",
      " 'теория размерности Крулля': Tag(id=-1,\n",
      "                                  title='теория размерности Крулля',\n",
      "                                  type=-1),\n",
      " 'тождество Похожаева': Tag(id=-1, title='тождество Похожаева', type=-1),\n",
      " 'топология Зариского': Tag(id=-1, title='топология Зариского', type=-1),\n",
      " 'уравнения в частных производных': Tag(id=-1,\n",
      "                                        title='уравнения в частных производных',\n",
      "                                        type=-1)}\n"
     ]
    }
   ],
   "source": [
    "pprint.pprint(tags_dict)"
   ]
  },
  {
   "cell_type": "code",
   "execution_count": null,
   "metadata": {},
   "outputs": [],
   "source": []
  }
 ],
 "metadata": {
  "kernelspec": {
   "display_name": "Python 3",
   "language": "python",
   "name": "python3"
  },
  "language_info": {
   "codemirror_mode": {
    "name": "ipython",
    "version": 3
   },
   "file_extension": ".py",
   "mimetype": "text/x-python",
   "name": "python",
   "nbconvert_exporter": "python",
   "pygments_lexer": "ipython3",
   "version": "3.10.6"
  },
  "orig_nbformat": 4
 },
 "nbformat": 4,
 "nbformat_minor": 2
}
