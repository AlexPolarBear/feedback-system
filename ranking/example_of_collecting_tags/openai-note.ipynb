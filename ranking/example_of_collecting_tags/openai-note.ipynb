{
 "cells": [
  {
   "cell_type": "code",
   "execution_count": 22,
   "metadata": {},
   "outputs": [],
   "source": [
    "import openai\n",
    "import project_secrets\n",
    "import sys\n",
    "import os\n"
   ]
  },
  {
   "cell_type": "code",
   "execution_count": 46,
   "metadata": {},
   "outputs": [],
   "source": [
    "openai.api_key = project_secrets.OPENAI_KEY\n",
    "PATH_TO_CONTEXT_FILE = \"data/context.txt\"\n",
    "PATH_TO_COURSES_DIR = \"data/courses\"\n",
    "CHATGPT_MODEL = \"gpt-3.5-turbo\""
   ]
  },
  {
   "cell_type": "code",
   "execution_count": 20,
   "metadata": {},
   "outputs": [],
   "source": [
    "def get_context(path_to_file=PATH_TO_CONTEXT_FILE):\n",
    "    file = open(path_to_file, \"r\", encoding=\"utf-8\")\n",
    "    return file.read()"
   ]
  },
  {
   "cell_type": "code",
   "execution_count": null,
   "metadata": {},
   "outputs": [],
   "source": []
  },
  {
   "cell_type": "code",
   "execution_count": 43,
   "metadata": {},
   "outputs": [],
   "source": [
    "class Course:\n",
    "    def __init__(self, tag, description):\n",
    "        self.tag = tag\n",
    "        self.description = description\n",
    "    \n",
    "    def __str__(self) -> str:\n",
    "        res = f\"{self.tag} : {self.description[:50]}\"\n",
    "        return res"
   ]
  },
  {
   "cell_type": "code",
   "execution_count": 37,
   "metadata": {},
   "outputs": [],
   "source": [
    "def get_list_of_courses(path_to_dir=PATH_TO_COURSES_DIR) -> list[Course]:\n",
    "    courses_list = []\n",
    "    for filename in os.listdir(path_to_dir):\n",
    "        path_to_file = f\"{path_to_dir}/{filename}\"\n",
    "        file = open(path_to_file, \"r\", encoding=\"utf-8\")\n",
    "\n",
    "        courses_list.append(Course(tag=filename, description=file.read()))\n",
    "\n",
    "    return courses_list\n",
    "\n"
   ]
  },
  {
   "cell_type": "code",
   "execution_count": 49,
   "metadata": {},
   "outputs": [
    {
     "name": "stdout",
     "output_type": "stream",
     "text": [
      "CommAlg.txt : 059719\tКоммутативная алгебра\n",
      "\n",
      "Курс посвящен структ\n"
     ]
    }
   ],
   "source": [
    "courses_list = get_list_of_courses()\n",
    "\n",
    "for course in courses_list:\n",
    "    print(course)"
   ]
  },
  {
   "cell_type": "code",
   "execution_count": 62,
   "metadata": {},
   "outputs": [],
   "source": [
    "def get_text_tags_from_course(course : Course, context : str):\n",
    "\n",
    "    messages = [ {\"role\" : \"assistant\", \"content\": context },\n",
    "             {\"role\": \"user\", \"content\": course.description} ]\n",
    "    \n",
    "    completion = openai.ChatCompletion.create(\n",
    "    model=CHATGPT_MODEL,\n",
    "    messages=messages\n",
    "    )\n",
    "\n",
    "    return completion.choices[0].message.content\n",
    "\n"
   ]
  },
  {
   "cell_type": "code",
   "execution_count": 98,
   "metadata": {},
   "outputs": [],
   "source": [
    "def prepare_text_tags(text_tags : str) -> list[str]:\n",
    "    text_tags = text_tags.strip().split(\",\")\n",
    "    tags_list = []\n",
    "    for tag in text_tags:\n",
    "        # maybe add .lower()\n",
    "        result_tag = tag.strip().strip(\"\\t\").strip(chr(32))\n",
    "        tags_list.append(result_tag)\n",
    "\n",
    "    return text_tags"
   ]
  },
  {
   "cell_type": "code",
   "execution_count": 59,
   "metadata": {},
   "outputs": [],
   "source": [
    "CONTEXT = get_context()"
   ]
  },
  {
   "cell_type": "code",
   "execution_count": 63,
   "metadata": {},
   "outputs": [],
   "source": [
    "text_tag = get_text_tags_from_course(course = courses_list[0], context=CONTEXT)"
   ]
  },
  {
   "cell_type": "code",
   "execution_count": 99,
   "metadata": {},
   "outputs": [],
   "source": [
    "tags = prepare_text_tags(text_tag)\n",
    "\n"
   ]
  },
  {
   "cell_type": "code",
   "execution_count": 100,
   "metadata": {},
   "outputs": [
    {
     "data": {
      "text/plain": [
       "['Коммутативные колца',\n",
       " ' алгебраическая геометрия',\n",
       " ' алгебраическая теория чисел',\n",
       " ' атласы',\n",
       " ' локальная алгебраическая геометрия',\n",
       " ' дедекиндовы кольца',\n",
       " ' локализация',\n",
       " ' нормализация',\n",
       " ' пополнение']"
      ]
     },
     "execution_count": 100,
     "metadata": {},
     "output_type": "execute_result"
    }
   ],
   "source": [
    "tags[:-5]"
   ]
  },
  {
   "cell_type": "code",
   "execution_count": 97,
   "metadata": {},
   "outputs": [
    {
     "data": {
      "text/plain": [
       "32"
      ]
     },
     "execution_count": 97,
     "metadata": {},
     "output_type": "execute_result"
    }
   ],
   "source": [
    "ord(tags[3][0])\n"
   ]
  }
 ],
 "metadata": {
  "kernelspec": {
   "display_name": "Python 3",
   "language": "python",
   "name": "python3"
  },
  "language_info": {
   "codemirror_mode": {
    "name": "ipython",
    "version": 3
   },
   "file_extension": ".py",
   "mimetype": "text/x-python",
   "name": "python",
   "nbconvert_exporter": "python",
   "pygments_lexer": "ipython3",
   "version": "3.10.6"
  },
  "orig_nbformat": 4
 },
 "nbformat": 4,
 "nbformat_minor": 2
}
