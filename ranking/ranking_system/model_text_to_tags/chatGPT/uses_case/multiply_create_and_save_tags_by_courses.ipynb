{
 "cells": [
  {
   "cell_type": "code",
   "execution_count": 1,
   "metadata": {},
   "outputs": [
    {
     "name": "stdout",
     "output_type": "stream",
     "text": [
      "c:\\Users\\nalex\\Desktop\\different\\feedback-system\\ranking\\ranking_system\\model_text_to_tags\\chatGPT\n",
      "c:\\Users\\nalex\\Desktop\\different\\feedback-system\\ranking\\ranking_system\n"
     ]
    }
   ],
   "source": [
    "import os \n",
    "import sys\n",
    "\n",
    "# add moduls ranking_system, chatGPT\n",
    "print(os.path.dirname(os.getcwd()))\n",
    "sys.path.append(os.path.dirname(os.getcwd()))\n",
    "\n",
    "print(os.path.dirname(os.path.dirname(os.path.dirname(os.getcwd()))))\n",
    "sys.path.append(os.path.dirname(os.path.dirname(os.path.dirname(os.getcwd()))))\n"
   ]
  },
  {
   "cell_type": "code",
   "execution_count": 2,
   "metadata": {},
   "outputs": [],
   "source": [
    "import pprint"
   ]
  },
  {
   "cell_type": "code",
   "execution_count": 3,
   "metadata": {},
   "outputs": [],
   "source": [
    "from chatGPT import ChatGPT\n"
   ]
  },
  {
   "cell_type": "code",
   "execution_count": 4,
   "metadata": {},
   "outputs": [],
   "source": [
    "chat_gpt = ChatGPT()"
   ]
  },
  {
   "cell_type": "code",
   "execution_count": null,
   "metadata": {},
   "outputs": [],
   "source": []
  },
  {
   "cell_type": "code",
   "execution_count": 5,
   "metadata": {},
   "outputs": [],
   "source": [
    "courses = chat_gpt.read_all_courses_txt_to_courses()"
   ]
  },
  {
   "cell_type": "code",
   "execution_count": 6,
   "metadata": {},
   "outputs": [
    {
     "name": "stdout",
     "output_type": "stream",
     "text": [
      "[Course(short_name='CommAlg',\n",
      "        description='059719\\tКоммутативная алгебра\\n'\n",
      "                    '\\n'\n",
      "                    'Курс посвящен структурной теории коммутативных колец, '\n",
      "                    'которая лежит в основе алгебраической геометрии и '\n",
      "                    'алгебраической\\n'\n",
      "                    'теории чисел. Коммутативные кольца являются картами в '\n",
      "                    'атласах для алгебраических многообразий,\\n'\n",
      "                    'поэтому коммутативную алгебру часто называют локальной '\n",
      "                    'алгебраической геометрией.\\n'\n",
      "                    'С другой стороны, кольца целых алгебраических чисел '\n",
      "                    'являются дедекиндовыми кольцами, которые\\n'\n",
      "                    'образуют важнейший класс коммутативных колец размерности '\n",
      "                    '1 и активно изучаются с этой точки зрения.\\n'\n",
      "                    ' В курсе предполагается изучить ряд важнейших '\n",
      "                    'конструкций \\n'\n",
      "                    '(локализация, нормализация, пополнение и т.д.) и '\n",
      "                    'классических результатов для коммутативных колец, таких '\n",
      "                    'как теорема \\n'\n",
      "                    'Гильберта о нулях, Лемма Нетер о нормализации, '\n",
      "                    'Структурная теорема Коэна, а также теорию размерности '\n",
      "                    'Крулля. \\n'\n",
      "                    'Коммутативные кольца рассматриваются как геометрические '\n",
      "                    'объекты с топологией Зариского.\\n'\n",
      "                    '\\n'\n",
      "                    'Список литературы по теме курса:\\n'\n",
      "                    '\\n'\n",
      "                    'Д. Айзенбад, Коммутативная алгебра с прицелом на '\n",
      "                    'алгебраическую геометрию, МЦНМО, Москва, 2017. \\n'\n",
      "                    'М. Атья, И. Макдональд, Введение в коммутативную алгебру, '\n",
      "                    'Мир, Москва, 1972.\\n'\n",
      "                    'H. Matsumura, Commutative algebra, 2nd ed., '\n",
      "                    'Benjamin/Cummings Publishing Co., Reading, Mass., 1980.\\n'\n",
      "                    'J.-P. Serre, Local algebra, Springer-Verlag, Berlin '\n",
      "                    'Heidelberg New York, 2000.',\n",
      "        id=None,\n",
      "        field_of_knowledge=None,\n",
      "        full_name=None,\n",
      "        size=None,\n",
      "        lecturer_id=None,\n",
      "        year=None,\n",
      "        context=None),\n",
      " Course(short_name='DeepLearn',\n",
      "        description='060112 Глубокое обучение\\n'\n",
      "                    '\\n'\n",
      "                    'Обучение глубоких нейронных сетей (deep learning) '\n",
      "                    'произвело революцию в машинном обучении.\\n'\n",
      "                    'Глубокие нейронные сети оказались ключом, который '\n",
      "                    'подходит ко всем замкам сразу: новые \\n'\n",
      "                    'архитектуры и алгоритмы обучения, а также увеличившиеся '\n",
      "                    'вычислительные мощности и появившиеся \\n'\n",
      "                    'огромные наборы данных, привели к революционным прорывам '\n",
      "                    'в компьютерном зрении, распознавании \\n'\n",
      "                    'речи, обработке естественного языка и многих других '\n",
      "                    'типично \"человеческих\" задачах машинного \\n'\n",
      "                    'обучения. \\n'\n",
      "                    'Для понимания спецкурса крайне рекомендуется сначала '\n",
      "                    'прослушать первые две части курса \\n'\n",
      "                    '\"Машинное обучение\", однако это не строго необходимо, '\n",
      "                    'можно разобраться и с нуля.',\n",
      "        id=None,\n",
      "        field_of_knowledge=None,\n",
      "        full_name=None,\n",
      "        size=None,\n",
      "        lecturer_id=None,\n",
      "        year=None,\n",
      "        context=None),\n",
      " Course(short_name='VarCalc',\n",
      "        description='Дополнительные главы вариационного исчисления\\n'\n",
      "                    '(лектор А.И.Назаров)\\n'\n",
      "                    '\\n'\n",
      "                    'Спецкурс предназначен для ознакомления студентов с '\n",
      "                    'приложениями\\n'\n",
      "                    'прямых методов вариационного исчисления к решению краевых '\n",
      "                    'задач \\n'\n",
      "                    'для уравнений в частных производных.\\n'\n",
      "                    '\\n'\n",
      "                    'Содержание курса:\\n'\n",
      "                    'Раздел 1: Введение. Пространства Соболева и их простейшие '\n",
      "                    'свойства. \\n'\n",
      "                    'Симметризация и ее свойства. Неравенство для норм '\n",
      "                    '(сжимающее отображение). \\n'\n",
      "                    'Неравенство Рисса. Неравенство Пойа--Сеге. Неравенство '\n",
      "                    'Харди--Литлвуда--Соболева. \\n'\n",
      "                    'Теоремы вложения.Теоремы о существовании минимума. '\n",
      "                    'Решение уравнения Пуассона \\n'\n",
      "                    'вариационным методом. Полулинейные уравнения и их решение '\n",
      "                    'вариационным методом.\\n'\n",
      "                    '\\n'\n",
      "                    'Раздел 2: Прямые методы. Метод Нехари. Теорема о горном '\n",
      "                    'перевале и ее приложения. \\n'\n",
      "                    'Единственность решения --- доказательство с помощью '\n",
      "                    'выпуклости. \\n'\n",
      "                    'Симметрия решения --- доказательство с помощью '\n",
      "                    'симметризации. \\n'\n",
      "                    'Метод движущихся плоскостей. Асимметричные решения. '\n",
      "                    'Множественность решений. \\n'\n",
      "                    'Тождество Похожаева. Несуществование решений. Принцип '\n",
      "                    'Лионса (локально компактный случай). \\n'\n",
      "                    'Минимизирующие функции в предельных теоремах вложения. '\n",
      "                    'Недостижимость минимума в \\n'\n",
      "                    'ограниченных областях. Уравнения с предельным ростом '\n",
      "                    'правой части. Принцип Лионса. \\n'\n",
      "                    'Примеры достижимости минимума.',\n",
      "        id=None,\n",
      "        field_of_knowledge=None,\n",
      "        full_name=None,\n",
      "        size=None,\n",
      "        lecturer_id=None,\n",
      "        year=None,\n",
      "        context=None)]\n"
     ]
    }
   ],
   "source": [
    "pprint.pprint(courses)"
   ]
  },
  {
   "cell_type": "code",
   "execution_count": null,
   "metadata": {},
   "outputs": [],
   "source": []
  },
  {
   "cell_type": "code",
   "execution_count": 7,
   "metadata": {},
   "outputs": [
    {
     "name": "stdout",
     "output_type": "stream",
     "text": [
      "[\\*] ChatGPT request starting !\n",
      "ChatGPT request is finished! [*/]\n",
      "[\\*]CommAlg is downloaded -> c:\\Users\\nalex\\Desktop\\different\\feedback-system\\ranking\\ranking_system\\model_text_to_tags\\chatGPT\\data\\saved_data\\tags_json\\CommAlg_tags.json [*/]\n",
      "[\\*] ChatGPT request starting !\n",
      "ChatGPT request is finished! [*/]\n",
      "[\\*]DeepLearn is downloaded -> c:\\Users\\nalex\\Desktop\\different\\feedback-system\\ranking\\ranking_system\\model_text_to_tags\\chatGPT\\data\\saved_data\\tags_json\\DeepLearn_tags.json [*/]\n",
      "[\\*] ChatGPT request starting !\n",
      "ChatGPT request is finished! [*/]\n",
      "[\\*]VarCalc is downloaded -> c:\\Users\\nalex\\Desktop\\different\\feedback-system\\ranking\\ranking_system\\model_text_to_tags\\chatGPT\\data\\saved_data\\tags_json\\VarCalc_tags.json [*/]\n"
     ]
    },
    {
     "data": {
      "text/plain": [
       "[Context(context={'алгебраическая геометрия': Tag(id=-1, title='алгебраическая геометрия', type=-1), 'алгебраическая теория чисел': Tag(id=-1, title='алгебраическая теория чисел', type=-1), 'коммутативные колца': Tag(id=-1, title='коммутативные колца', type=-1), 'атласы': Tag(id=-1, title='атласы', type=-1), 'локальная алгебраическая геометрия': Tag(id=-1, title='локальная алгебраическая геометрия', type=-1), 'кольца целых алгебраических чисел': Tag(id=-1, title='кольца целых алгебраических чисел', type=-1), 'дедекиндовы кольца': Tag(id=-1, title='дедекиндовы кольца', type=-1), 'локализация': Tag(id=-1, title='локализация', type=-1), 'нормализация': Tag(id=-1, title='нормализация', type=-1), 'пополнение': Tag(id=-1, title='пополнение', type=-1), 'теорема Гильберта о нулях': Tag(id=-1, title='теорема Гильберта о нулях', type=-1), 'лемма Нетер о нормализации': Tag(id=-1, title='лемма Нетер о нормализации', type=-1), 'структурная теорема Коэна': Tag(id=-1, title='структурная теорема Коэна', type=-1), 'теория размерности Крулля': Tag(id=-1, title='теория размерности Крулля', type=-1), 'топология Зариского': Tag(id=-1, title='топология Зариского', type=-1)}),\n",
       " Context(context={'глубокое обучение': Tag(id=-1, title='глубокое обучение', type=-1), 'нейронные сети': Tag(id=-1, title='нейронные сети', type=-1), 'машинное обучение': Tag(id=-1, title='машинное обучение', type=-1), 'компьютерное зрение': Tag(id=-1, title='компьютерное зрение', type=-1), 'распознавание речи': Tag(id=-1, title='распознавание речи', type=-1), 'обработка естественного языка': Tag(id=-1, title='обработка естественного языка', type=-1)}),\n",
       " Context(context={'вариационное исчисление': Tag(id=-1, title='вариационное исчисление', type=-1), 'краевые задачи': Tag(id=-1, title='краевые задачи', type=-1), 'уравнения в частных производных': Tag(id=-1, title='уравнения в частных производных', type=-1), 'пространства Соболева': Tag(id=-1, title='пространства Соболева', type=-1), 'неравенство Рисса': Tag(id=-1, title='неравенство Рисса', type=-1), 'неравенство Пойа-Сеге': Tag(id=-1, title='неравенство Пойа-Сеге', type=-1), 'существование минимума': Tag(id=-1, title='существование минимума', type=-1), 'метод Нехари': Tag(id=-1, title='метод Нехари', type=-1), 'метод движущихся плоскостей': Tag(id=-1, title='метод движущихся плоскостей', type=-1), 'тождество Похожаева': Tag(id=-1, title='тождество Похожаева', type=-1), 'принцип Лионса': Tag(id=-1, title='принцип Лионса', type=-1)})]"
      ]
     },
     "execution_count": 7,
     "metadata": {},
     "output_type": "execute_result"
    }
   ],
   "source": [
    "chat_gpt.create_and_save_tags_by_courses(courses=courses, verbose=True, force=True)"
   ]
  },
  {
   "cell_type": "code",
   "execution_count": 8,
   "metadata": {},
   "outputs": [],
   "source": []
  },
  {
   "cell_type": "code",
   "execution_count": null,
   "metadata": {},
   "outputs": [],
   "source": []
  },
  {
   "cell_type": "code",
   "execution_count": null,
   "metadata": {},
   "outputs": [],
   "source": []
  }
 ],
 "metadata": {
  "kernelspec": {
   "display_name": "Python 3",
   "language": "python",
   "name": "python3"
  },
  "language_info": {
   "codemirror_mode": {
    "name": "ipython",
    "version": 3
   },
   "file_extension": ".py",
   "mimetype": "text/x-python",
   "name": "python",
   "nbconvert_exporter": "python",
   "pygments_lexer": "ipython3",
   "version": "3.10.6"
  },
  "orig_nbformat": 4
 },
 "nbformat": 4,
 "nbformat_minor": 2
}
