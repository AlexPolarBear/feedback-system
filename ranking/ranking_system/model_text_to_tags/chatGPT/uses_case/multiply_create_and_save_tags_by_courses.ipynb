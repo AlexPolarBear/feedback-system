{
 "cells": [
  {
   "cell_type": "code",
   "execution_count": 1,
   "metadata": {},
   "outputs": [
    {
     "name": "stdout",
     "output_type": "stream",
     "text": [
      "c:\\Users\\nalex\\Desktop\\different\\feedback-system\\ranking\\ranking_system\\model_text_to_tags\\chatGPT\n",
      "c:\\Users\\nalex\\Desktop\\different\\feedback-system\\ranking\\ranking_system\n"
     ]
    }
   ],
   "source": [
    "import os \n",
    "import sys\n",
    "\n",
    "# add moduls ranking_system, chatGPT\n",
    "print(os.path.dirname(os.getcwd()))\n",
    "sys.path.append(os.path.dirname(os.getcwd()))\n",
    "\n",
    "print(os.path.dirname(os.path.dirname(os.path.dirname(os.getcwd()))))\n",
    "sys.path.append(os.path.dirname(os.path.dirname(os.path.dirname(os.getcwd()))))\n",
    "\n",
    "\n",
    "from simple_data.simpleCourses import simple_courses\n",
    "from simple_data.simpleContexts import simple_contexts"
   ]
  },
  {
   "cell_type": "code",
   "execution_count": 2,
   "metadata": {},
   "outputs": [],
   "source": [
    "import pprint"
   ]
  },
  {
   "cell_type": "code",
   "execution_count": 3,
   "metadata": {},
   "outputs": [],
   "source": [
    "from chatGPT import ChatGPT\n"
   ]
  },
  {
   "cell_type": "code",
   "execution_count": 4,
   "metadata": {},
   "outputs": [],
   "source": [
    "chat_gpt = ChatGPT()"
   ]
  },
  {
   "cell_type": "code",
   "execution_count": null,
   "metadata": {},
   "outputs": [],
   "source": []
  },
  {
   "cell_type": "code",
   "execution_count": 5,
   "metadata": {},
   "outputs": [],
   "source": [
    "courses = chat_gpt.read_all_courses_txt_to_courses()"
   ]
  },
  {
   "cell_type": "code",
   "execution_count": 6,
   "metadata": {},
   "outputs": [
    {
     "name": "stdout",
     "output_type": "stream",
     "text": [
      "[Course(short_name='CommAlg',\n",
      "        description='059719\\tКоммутативная алгебра\\n'\n",
      "                    '\\n'\n",
      "                    'Курс посвящен структурной теории коммутативных колец, '\n",
      "                    'которая лежит в основе алгебраической геометрии и '\n",
      "                    'алгебраической\\n'\n",
      "                    'теории чисел. Коммутативные кольца являются картами в '\n",
      "                    'атласах для алгебраических многообразий,\\n'\n",
      "                    'поэтому коммутативную алгебру часто называют локальной '\n",
      "                    'алгебраической геометрией.\\n'\n",
      "                    'С другой стороны, кольца целых алгебраических чисел '\n",
      "                    'являются дедекиндовыми кольцами, которые\\n'\n",
      "                    'образуют важнейший класс коммутативных колец размерности '\n",
      "                    '1 и активно изучаются с этой точки зрения.\\n'\n",
      "                    ' В курсе предполагается изучить ряд важнейших '\n",
      "                    'конструкций \\n'\n",
      "                    '(локализация, нормализация, пополнение и т.д.) и '\n",
      "                    'классических результатов для коммутативных колец, таких '\n",
      "                    'как теорема \\n'\n",
      "                    'Гильберта о нулях, Лемма Нетер о нормализации, '\n",
      "                    'Структурная теорема Коэна, а также теорию размерности '\n",
      "                    'Крулля. \\n'\n",
      "                    'Коммутативные кольца рассматриваются как геометрические '\n",
      "                    'объекты с топологией Зариского.\\n'\n",
      "                    '\\n'\n",
      "                    'Список литературы по теме курса:\\n'\n",
      "                    '\\n'\n",
      "                    'Д. Айзенбад, Коммутативная алгебра с прицелом на '\n",
      "                    'алгебраическую геометрию, МЦНМО, Москва, 2017. \\n'\n",
      "                    'М. Атья, И. Макдональд, Введение в коммутативную алгебру, '\n",
      "                    'Мир, Москва, 1972.\\n'\n",
      "                    'H. Matsumura, Commutative algebra, 2nd ed., '\n",
      "                    'Benjamin/Cummings Publishing Co., Reading, Mass., 1980.\\n'\n",
      "                    'J.-P. Serre, Local algebra, Springer-Verlag, Berlin '\n",
      "                    'Heidelberg New York, 2000.',\n",
      "        id=None,\n",
      "        field_of_knowledge=None,\n",
      "        full_name=None,\n",
      "        size=None,\n",
      "        lecturer_id=None,\n",
      "        year=None,\n",
      "        context=None),\n",
      " Course(short_name='DeepLearn',\n",
      "        description='060112 Глубокое обучение\\n'\n",
      "                    '\\n'\n",
      "                    'Обучение глубоких нейронных сетей (deep learning) '\n",
      "                    'произвело революцию в машинном обучении.\\n'\n",
      "                    'Глубокие нейронные сети оказались ключом, который '\n",
      "                    'подходит ко всем замкам сразу: новые \\n'\n",
      "                    'архитектуры и алгоритмы обучения, а также увеличившиеся '\n",
      "                    'вычислительные мощности и появившиеся \\n'\n",
      "                    'огромные наборы данных, привели к революционным прорывам '\n",
      "                    'в компьютерном зрении, распознавании \\n'\n",
      "                    'речи, обработке естественного языка и многих других '\n",
      "                    'типично \"человеческих\" задачах машинного \\n'\n",
      "                    'обучения. \\n'\n",
      "                    'Для понимания спецкурса крайне рекомендуется сначала '\n",
      "                    'прослушать первые две части курса \\n'\n",
      "                    '\"Машинное обучение\", однако это не строго необходимо, '\n",
      "                    'можно разобраться и с нуля.',\n",
      "        id=None,\n",
      "        field_of_knowledge=None,\n",
      "        full_name=None,\n",
      "        size=None,\n",
      "        lecturer_id=None,\n",
      "        year=None,\n",
      "        context=None),\n",
      " Course(short_name='VarCalc',\n",
      "        description='Дополнительные главы вариационного исчисления\\n'\n",
      "                    '(лектор А.И.Назаров)\\n'\n",
      "                    '\\n'\n",
      "                    'Спецкурс предназначен для ознакомления студентов с '\n",
      "                    'приложениями\\n'\n",
      "                    'прямых методов вариационного исчисления к решению краевых '\n",
      "                    'задач \\n'\n",
      "                    'для уравнений в частных производных.\\n'\n",
      "                    '\\n'\n",
      "                    'Содержание курса:\\n'\n",
      "                    'Раздел 1: Введение. Пространства Соболева и их простейшие '\n",
      "                    'свойства. \\n'\n",
      "                    'Симметризация и ее свойства. Неравенство для норм '\n",
      "                    '(сжимающее отображение). \\n'\n",
      "                    'Неравенство Рисса. Неравенство Пойа--Сеге. Неравенство '\n",
      "                    'Харди--Литлвуда--Соболева. \\n'\n",
      "                    'Теоремы вложения.Теоремы о существовании минимума. '\n",
      "                    'Решение уравнения Пуассона \\n'\n",
      "                    'вариационным методом. Полулинейные уравнения и их решение '\n",
      "                    'вариационным методом.\\n'\n",
      "                    '\\n'\n",
      "                    'Раздел 2: Прямые методы. Метод Нехари. Теорема о горном '\n",
      "                    'перевале и ее приложения. \\n'\n",
      "                    'Единственность решения --- доказательство с помощью '\n",
      "                    'выпуклости. \\n'\n",
      "                    'Симметрия решения --- доказательство с помощью '\n",
      "                    'симметризации. \\n'\n",
      "                    'Метод движущихся плоскостей. Асимметричные решения. '\n",
      "                    'Множественность решений. \\n'\n",
      "                    'Тождество Похожаева. Несуществование решений. Принцип '\n",
      "                    'Лионса (локально компактный случай). \\n'\n",
      "                    'Минимизирующие функции в предельных теоремах вложения. '\n",
      "                    'Недостижимость минимума в \\n'\n",
      "                    'ограниченных областях. Уравнения с предельным ростом '\n",
      "                    'правой части. Принцип Лионса. \\n'\n",
      "                    'Примеры достижимости минимума.',\n",
      "        id=None,\n",
      "        field_of_knowledge=None,\n",
      "        full_name=None,\n",
      "        size=None,\n",
      "        lecturer_id=None,\n",
      "        year=None,\n",
      "        context=None)]\n"
     ]
    }
   ],
   "source": [
    "pprint.pprint(courses)"
   ]
  },
  {
   "cell_type": "code",
   "execution_count": null,
   "metadata": {},
   "outputs": [],
   "source": []
  },
  {
   "cell_type": "code",
   "execution_count": 7,
   "metadata": {},
   "outputs": [
    {
     "data": {
      "text/plain": [
       "[Context(context={1: Tag(id=1, title='коммутативная алгебра', type=-1), 2: Tag(id=2, title='алгебраическая геометрия', type=-1), 3: Tag(id=3, title='алгебраическая теория чисел', type=-1), 4: Tag(id=4, title='локализация', type=-1), 5: Tag(id=5, title='нормализация', type=-1), 6: Tag(id=6, title='пополнение', type=-1), 7: Tag(id=7, title='теорема Гильберта о нулях', type=-1), 8: Tag(id=8, title='лемма Нетер о нормализации', type=-1), 9: Tag(id=9, title='структурная теорема Коэна', type=-1), 10: Tag(id=10, title='теория размерности Крулля', type=-1), 11: Tag(id=11, title='топология Зариского', type=-1)}),\n",
       " Context(context={12: Tag(id=12, title='глубокое обучение', type=-1), 13: Tag(id=13, title='нейронные сети', type=-1), 14: Tag(id=14, title='архитектуры сетей', type=-1), 15: Tag(id=15, title='алгоритмы обучения', type=-1), 16: Tag(id=16, title='компьютерное зрение', type=-1), 17: Tag(id=17, title='распознавание речи', type=-1), 18: Tag(id=18, title='обработка естественного языка', type=-1), 19: Tag(id=19, title='машинное обучение', type=-1)}),\n",
       " Context(context={20: Tag(id=20, title='вариационное исчисление', type=-1), 21: Tag(id=21, title='краевые задачи', type=-1), 22: Tag(id=22, title='уравнения в частных производных', type=-1), 23: Tag(id=23, title='метод Нехари', type=-1), 24: Tag(id=24, title='теорема о горном перевале', type=-1), 25: Tag(id=25, title='выпуклость', type=-1), 26: Tag(id=26, title='симметризация', type=-1), 27: Tag(id=27, title='движущиеся плоскости', type=-1), 28: Tag(id=28, title='множественность решений', type=-1), 29: Tag(id=29, title='тождество Похожаева', type=-1), 30: Tag(id=30, title='принцип Лионса', type=-1)})]"
      ]
     },
     "execution_count": 7,
     "metadata": {},
     "output_type": "execute_result"
    }
   ],
   "source": [
    "chat_gpt.create_and_save_tags_by_courses(courses=courses, verbose=True)"
   ]
  },
  {
   "cell_type": "code",
   "execution_count": null,
   "metadata": {},
   "outputs": [],
   "source": []
  },
  {
   "cell_type": "code",
   "execution_count": null,
   "metadata": {},
   "outputs": [],
   "source": []
  }
 ],
 "metadata": {
  "kernelspec": {
   "display_name": "Python 3",
   "language": "python",
   "name": "python3"
  },
  "language_info": {
   "codemirror_mode": {
    "name": "ipython",
    "version": 3
   },
   "file_extension": ".py",
   "mimetype": "text/x-python",
   "name": "python",
   "nbconvert_exporter": "python",
   "pygments_lexer": "ipython3",
   "version": "3.10.6"
  },
  "orig_nbformat": 4
 },
 "nbformat": 4,
 "nbformat_minor": 2
}
